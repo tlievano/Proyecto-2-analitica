{
 "cells": [
  {
   "cell_type": "markdown",
   "metadata": {},
   "source": [
    "# Soporte 4 Modelo de regresión"
   ]
  },
  {
   "cell_type": "code",
   "execution_count": 1,
   "metadata": {},
   "outputs": [
    {
     "name": "stdout",
     "output_type": "stream",
     "text": [
      "WARNING:tensorflow:From c:\\Users\\tomas\\AppData\\Local\\Programs\\Python\\Python311\\Lib\\site-packages\\keras\\src\\losses.py:2976: The name tf.losses.sparse_softmax_cross_entropy is deprecated. Please use tf.compat.v1.losses.sparse_softmax_cross_entropy instead.\n",
      "\n"
     ]
    },
    {
     "data": {
      "text/html": [
       "<div>\n",
       "<style scoped>\n",
       "    .dataframe tbody tr th:only-of-type {\n",
       "        vertical-align: middle;\n",
       "    }\n",
       "\n",
       "    .dataframe tbody tr th {\n",
       "        vertical-align: top;\n",
       "    }\n",
       "\n",
       "    .dataframe thead th {\n",
       "        text-align: right;\n",
       "    }\n",
       "</style>\n",
       "<table border=\"1\" class=\"dataframe\">\n",
       "  <thead>\n",
       "    <tr style=\"text-align: right;\">\n",
       "      <th></th>\n",
       "      <th>default</th>\n",
       "      <th>housing</th>\n",
       "      <th>loan</th>\n",
       "      <th>pdays</th>\n",
       "      <th>job</th>\n",
       "      <th>marital</th>\n",
       "      <th>education</th>\n",
       "      <th>contact</th>\n",
       "      <th>poutcome</th>\n",
       "      <th>age</th>\n",
       "      <th>balance</th>\n",
       "      <th>day</th>\n",
       "      <th>month</th>\n",
       "      <th>duration</th>\n",
       "      <th>campaign</th>\n",
       "      <th>previous</th>\n",
       "      <th>y</th>\n",
       "    </tr>\n",
       "  </thead>\n",
       "  <tbody>\n",
       "    <tr>\n",
       "      <th>0</th>\n",
       "      <td>0</td>\n",
       "      <td>1</td>\n",
       "      <td>0</td>\n",
       "      <td>0</td>\n",
       "      <td>management</td>\n",
       "      <td>married</td>\n",
       "      <td>tertiary</td>\n",
       "      <td>unknown</td>\n",
       "      <td>unknown</td>\n",
       "      <td>58</td>\n",
       "      <td>2143</td>\n",
       "      <td>5</td>\n",
       "      <td>5</td>\n",
       "      <td>261</td>\n",
       "      <td>1</td>\n",
       "      <td>0</td>\n",
       "      <td>0</td>\n",
       "    </tr>\n",
       "    <tr>\n",
       "      <th>1</th>\n",
       "      <td>0</td>\n",
       "      <td>1</td>\n",
       "      <td>0</td>\n",
       "      <td>0</td>\n",
       "      <td>technician</td>\n",
       "      <td>single</td>\n",
       "      <td>secondary</td>\n",
       "      <td>unknown</td>\n",
       "      <td>unknown</td>\n",
       "      <td>44</td>\n",
       "      <td>29</td>\n",
       "      <td>5</td>\n",
       "      <td>5</td>\n",
       "      <td>151</td>\n",
       "      <td>1</td>\n",
       "      <td>0</td>\n",
       "      <td>0</td>\n",
       "    </tr>\n",
       "    <tr>\n",
       "      <th>2</th>\n",
       "      <td>0</td>\n",
       "      <td>1</td>\n",
       "      <td>1</td>\n",
       "      <td>0</td>\n",
       "      <td>entrepreneur</td>\n",
       "      <td>married</td>\n",
       "      <td>secondary</td>\n",
       "      <td>unknown</td>\n",
       "      <td>unknown</td>\n",
       "      <td>33</td>\n",
       "      <td>2</td>\n",
       "      <td>5</td>\n",
       "      <td>5</td>\n",
       "      <td>76</td>\n",
       "      <td>1</td>\n",
       "      <td>0</td>\n",
       "      <td>0</td>\n",
       "    </tr>\n",
       "    <tr>\n",
       "      <th>3</th>\n",
       "      <td>0</td>\n",
       "      <td>1</td>\n",
       "      <td>0</td>\n",
       "      <td>0</td>\n",
       "      <td>blue-collar</td>\n",
       "      <td>married</td>\n",
       "      <td>unknown</td>\n",
       "      <td>unknown</td>\n",
       "      <td>unknown</td>\n",
       "      <td>47</td>\n",
       "      <td>1506</td>\n",
       "      <td>5</td>\n",
       "      <td>5</td>\n",
       "      <td>92</td>\n",
       "      <td>1</td>\n",
       "      <td>0</td>\n",
       "      <td>0</td>\n",
       "    </tr>\n",
       "    <tr>\n",
       "      <th>4</th>\n",
       "      <td>0</td>\n",
       "      <td>0</td>\n",
       "      <td>0</td>\n",
       "      <td>0</td>\n",
       "      <td>unknown</td>\n",
       "      <td>single</td>\n",
       "      <td>unknown</td>\n",
       "      <td>unknown</td>\n",
       "      <td>unknown</td>\n",
       "      <td>33</td>\n",
       "      <td>1</td>\n",
       "      <td>5</td>\n",
       "      <td>5</td>\n",
       "      <td>198</td>\n",
       "      <td>1</td>\n",
       "      <td>0</td>\n",
       "      <td>0</td>\n",
       "    </tr>\n",
       "  </tbody>\n",
       "</table>\n",
       "</div>"
      ],
      "text/plain": [
       "   default  housing  loan  pdays           job  marital  education  contact  \\\n",
       "0        0        1     0      0    management  married   tertiary  unknown   \n",
       "1        0        1     0      0    technician   single  secondary  unknown   \n",
       "2        0        1     1      0  entrepreneur  married  secondary  unknown   \n",
       "3        0        1     0      0   blue-collar  married    unknown  unknown   \n",
       "4        0        0     0      0       unknown   single    unknown  unknown   \n",
       "\n",
       "  poutcome  age  balance  day  month  duration  campaign  previous  y  \n",
       "0  unknown   58     2143    5      5       261         1         0  0  \n",
       "1  unknown   44       29    5      5       151         1         0  0  \n",
       "2  unknown   33        2    5      5        76         1         0  0  \n",
       "3  unknown   47     1506    5      5        92         1         0  0  \n",
       "4  unknown   33        1    5      5       198         1         0  0  "
      ]
     },
     "execution_count": 1,
     "metadata": {},
     "output_type": "execute_result"
    }
   ],
   "source": [
    "import pandas as pd\n",
    "import seaborn as sns\n",
    "import matplotlib.pyplot as plt\n",
    "import pandas as pd\n",
    "import tensorflow as tf\n",
    "import keras\n",
    "\n",
    "#Imrpotar datos\n",
    "data = pd.read_csv('bank-full-modelo.csv')\n",
    "data.head()"
   ]
  },
  {
   "cell_type": "code",
   "execution_count": 2,
   "metadata": {},
   "outputs": [
    {
     "data": {
      "text/html": [
       "<div>\n",
       "<style scoped>\n",
       "    .dataframe tbody tr th:only-of-type {\n",
       "        vertical-align: middle;\n",
       "    }\n",
       "\n",
       "    .dataframe tbody tr th {\n",
       "        vertical-align: top;\n",
       "    }\n",
       "\n",
       "    .dataframe thead th {\n",
       "        text-align: right;\n",
       "    }\n",
       "</style>\n",
       "<table border=\"1\" class=\"dataframe\">\n",
       "  <thead>\n",
       "    <tr style=\"text-align: right;\">\n",
       "      <th></th>\n",
       "      <th>default</th>\n",
       "      <th>housing</th>\n",
       "      <th>loan</th>\n",
       "      <th>pdays</th>\n",
       "      <th>age</th>\n",
       "      <th>balance</th>\n",
       "      <th>day</th>\n",
       "      <th>month</th>\n",
       "      <th>duration</th>\n",
       "      <th>campaign</th>\n",
       "      <th>previous</th>\n",
       "      <th>y</th>\n",
       "    </tr>\n",
       "  </thead>\n",
       "  <tbody>\n",
       "    <tr>\n",
       "      <th>count</th>\n",
       "      <td>45211.000000</td>\n",
       "      <td>45211.000000</td>\n",
       "      <td>45211.000000</td>\n",
       "      <td>45211.000000</td>\n",
       "      <td>45211.000000</td>\n",
       "      <td>45211.000000</td>\n",
       "      <td>45211.000000</td>\n",
       "      <td>45211.000000</td>\n",
       "      <td>45211.000000</td>\n",
       "      <td>45211.000000</td>\n",
       "      <td>45211.000000</td>\n",
       "      <td>45211.000000</td>\n",
       "    </tr>\n",
       "    <tr>\n",
       "      <th>mean</th>\n",
       "      <td>0.018027</td>\n",
       "      <td>0.555838</td>\n",
       "      <td>0.160226</td>\n",
       "      <td>0.182633</td>\n",
       "      <td>40.936210</td>\n",
       "      <td>1362.272058</td>\n",
       "      <td>15.806419</td>\n",
       "      <td>6.144655</td>\n",
       "      <td>258.163080</td>\n",
       "      <td>2.763841</td>\n",
       "      <td>0.580323</td>\n",
       "      <td>0.116985</td>\n",
       "    </tr>\n",
       "    <tr>\n",
       "      <th>std</th>\n",
       "      <td>0.133049</td>\n",
       "      <td>0.496878</td>\n",
       "      <td>0.366820</td>\n",
       "      <td>0.386369</td>\n",
       "      <td>10.618762</td>\n",
       "      <td>3044.765829</td>\n",
       "      <td>8.322476</td>\n",
       "      <td>2.408034</td>\n",
       "      <td>257.527812</td>\n",
       "      <td>3.098021</td>\n",
       "      <td>2.303441</td>\n",
       "      <td>0.321406</td>\n",
       "    </tr>\n",
       "    <tr>\n",
       "      <th>min</th>\n",
       "      <td>0.000000</td>\n",
       "      <td>0.000000</td>\n",
       "      <td>0.000000</td>\n",
       "      <td>0.000000</td>\n",
       "      <td>18.000000</td>\n",
       "      <td>-8019.000000</td>\n",
       "      <td>1.000000</td>\n",
       "      <td>1.000000</td>\n",
       "      <td>0.000000</td>\n",
       "      <td>1.000000</td>\n",
       "      <td>0.000000</td>\n",
       "      <td>0.000000</td>\n",
       "    </tr>\n",
       "    <tr>\n",
       "      <th>25%</th>\n",
       "      <td>0.000000</td>\n",
       "      <td>0.000000</td>\n",
       "      <td>0.000000</td>\n",
       "      <td>0.000000</td>\n",
       "      <td>33.000000</td>\n",
       "      <td>72.000000</td>\n",
       "      <td>8.000000</td>\n",
       "      <td>5.000000</td>\n",
       "      <td>103.000000</td>\n",
       "      <td>1.000000</td>\n",
       "      <td>0.000000</td>\n",
       "      <td>0.000000</td>\n",
       "    </tr>\n",
       "    <tr>\n",
       "      <th>50%</th>\n",
       "      <td>0.000000</td>\n",
       "      <td>1.000000</td>\n",
       "      <td>0.000000</td>\n",
       "      <td>0.000000</td>\n",
       "      <td>39.000000</td>\n",
       "      <td>448.000000</td>\n",
       "      <td>16.000000</td>\n",
       "      <td>6.000000</td>\n",
       "      <td>180.000000</td>\n",
       "      <td>2.000000</td>\n",
       "      <td>0.000000</td>\n",
       "      <td>0.000000</td>\n",
       "    </tr>\n",
       "    <tr>\n",
       "      <th>75%</th>\n",
       "      <td>0.000000</td>\n",
       "      <td>1.000000</td>\n",
       "      <td>0.000000</td>\n",
       "      <td>0.000000</td>\n",
       "      <td>48.000000</td>\n",
       "      <td>1428.000000</td>\n",
       "      <td>21.000000</td>\n",
       "      <td>8.000000</td>\n",
       "      <td>319.000000</td>\n",
       "      <td>3.000000</td>\n",
       "      <td>0.000000</td>\n",
       "      <td>0.000000</td>\n",
       "    </tr>\n",
       "    <tr>\n",
       "      <th>max</th>\n",
       "      <td>1.000000</td>\n",
       "      <td>1.000000</td>\n",
       "      <td>1.000000</td>\n",
       "      <td>1.000000</td>\n",
       "      <td>95.000000</td>\n",
       "      <td>102127.000000</td>\n",
       "      <td>31.000000</td>\n",
       "      <td>12.000000</td>\n",
       "      <td>4918.000000</td>\n",
       "      <td>63.000000</td>\n",
       "      <td>275.000000</td>\n",
       "      <td>1.000000</td>\n",
       "    </tr>\n",
       "  </tbody>\n",
       "</table>\n",
       "</div>"
      ],
      "text/plain": [
       "            default       housing          loan         pdays           age  \\\n",
       "count  45211.000000  45211.000000  45211.000000  45211.000000  45211.000000   \n",
       "mean       0.018027      0.555838      0.160226      0.182633     40.936210   \n",
       "std        0.133049      0.496878      0.366820      0.386369     10.618762   \n",
       "min        0.000000      0.000000      0.000000      0.000000     18.000000   \n",
       "25%        0.000000      0.000000      0.000000      0.000000     33.000000   \n",
       "50%        0.000000      1.000000      0.000000      0.000000     39.000000   \n",
       "75%        0.000000      1.000000      0.000000      0.000000     48.000000   \n",
       "max        1.000000      1.000000      1.000000      1.000000     95.000000   \n",
       "\n",
       "             balance           day         month      duration      campaign  \\\n",
       "count   45211.000000  45211.000000  45211.000000  45211.000000  45211.000000   \n",
       "mean     1362.272058     15.806419      6.144655    258.163080      2.763841   \n",
       "std      3044.765829      8.322476      2.408034    257.527812      3.098021   \n",
       "min     -8019.000000      1.000000      1.000000      0.000000      1.000000   \n",
       "25%        72.000000      8.000000      5.000000    103.000000      1.000000   \n",
       "50%       448.000000     16.000000      6.000000    180.000000      2.000000   \n",
       "75%      1428.000000     21.000000      8.000000    319.000000      3.000000   \n",
       "max    102127.000000     31.000000     12.000000   4918.000000     63.000000   \n",
       "\n",
       "           previous             y  \n",
       "count  45211.000000  45211.000000  \n",
       "mean       0.580323      0.116985  \n",
       "std        2.303441      0.321406  \n",
       "min        0.000000      0.000000  \n",
       "25%        0.000000      0.000000  \n",
       "50%        0.000000      0.000000  \n",
       "75%        0.000000      0.000000  \n",
       "max      275.000000      1.000000  "
      ]
     },
     "execution_count": 2,
     "metadata": {},
     "output_type": "execute_result"
    }
   ],
   "source": [
    "data.describe()"
   ]
  },
  {
   "cell_type": "code",
   "execution_count": 3,
   "metadata": {},
   "outputs": [],
   "source": [
    "cat_int_feats = ['default', 'housing', 'loan', 'pdays']\n",
    "cat_str_feats = ['job','marital','education','contact','poutcome']\n",
    "num_feats = ['age','balance', 'day', 'month', 'duration', 'campaign', 'previous']"
   ]
  },
  {
   "cell_type": "markdown",
   "metadata": {},
   "source": [
    "## Separamos los datos en entrenamiento, validación y prueba"
   ]
  },
  {
   "cell_type": "code",
   "execution_count": 4,
   "metadata": {},
   "outputs": [
    {
     "data": {
      "text/html": [
       "<div>\n",
       "<style scoped>\n",
       "    .dataframe tbody tr th:only-of-type {\n",
       "        vertical-align: middle;\n",
       "    }\n",
       "\n",
       "    .dataframe tbody tr th {\n",
       "        vertical-align: top;\n",
       "    }\n",
       "\n",
       "    .dataframe thead th {\n",
       "        text-align: right;\n",
       "    }\n",
       "</style>\n",
       "<table border=\"1\" class=\"dataframe\">\n",
       "  <thead>\n",
       "    <tr style=\"text-align: right;\">\n",
       "      <th></th>\n",
       "      <th>default</th>\n",
       "      <th>housing</th>\n",
       "      <th>loan</th>\n",
       "      <th>pdays</th>\n",
       "      <th>job</th>\n",
       "      <th>marital</th>\n",
       "      <th>education</th>\n",
       "      <th>contact</th>\n",
       "      <th>poutcome</th>\n",
       "      <th>age</th>\n",
       "      <th>balance</th>\n",
       "      <th>day</th>\n",
       "      <th>month</th>\n",
       "      <th>duration</th>\n",
       "      <th>campaign</th>\n",
       "      <th>previous</th>\n",
       "      <th>y</th>\n",
       "    </tr>\n",
       "  </thead>\n",
       "  <tbody>\n",
       "    <tr>\n",
       "      <th>14789</th>\n",
       "      <td>1</td>\n",
       "      <td>0</td>\n",
       "      <td>1</td>\n",
       "      <td>0</td>\n",
       "      <td>blue-collar</td>\n",
       "      <td>single</td>\n",
       "      <td>secondary</td>\n",
       "      <td>cellular</td>\n",
       "      <td>unknown</td>\n",
       "      <td>45</td>\n",
       "      <td>0</td>\n",
       "      <td>16</td>\n",
       "      <td>7</td>\n",
       "      <td>154</td>\n",
       "      <td>2</td>\n",
       "      <td>0</td>\n",
       "      <td>0</td>\n",
       "    </tr>\n",
       "    <tr>\n",
       "      <th>8968</th>\n",
       "      <td>0</td>\n",
       "      <td>0</td>\n",
       "      <td>0</td>\n",
       "      <td>0</td>\n",
       "      <td>management</td>\n",
       "      <td>married</td>\n",
       "      <td>tertiary</td>\n",
       "      <td>unknown</td>\n",
       "      <td>unknown</td>\n",
       "      <td>41</td>\n",
       "      <td>5</td>\n",
       "      <td>5</td>\n",
       "      <td>6</td>\n",
       "      <td>178</td>\n",
       "      <td>1</td>\n",
       "      <td>0</td>\n",
       "      <td>0</td>\n",
       "    </tr>\n",
       "    <tr>\n",
       "      <th>34685</th>\n",
       "      <td>0</td>\n",
       "      <td>1</td>\n",
       "      <td>0</td>\n",
       "      <td>0</td>\n",
       "      <td>management</td>\n",
       "      <td>single</td>\n",
       "      <td>secondary</td>\n",
       "      <td>cellular</td>\n",
       "      <td>unknown</td>\n",
       "      <td>40</td>\n",
       "      <td>906</td>\n",
       "      <td>5</td>\n",
       "      <td>5</td>\n",
       "      <td>67</td>\n",
       "      <td>4</td>\n",
       "      <td>0</td>\n",
       "      <td>0</td>\n",
       "    </tr>\n",
       "    <tr>\n",
       "      <th>2369</th>\n",
       "      <td>0</td>\n",
       "      <td>1</td>\n",
       "      <td>0</td>\n",
       "      <td>0</td>\n",
       "      <td>admin.</td>\n",
       "      <td>single</td>\n",
       "      <td>secondary</td>\n",
       "      <td>unknown</td>\n",
       "      <td>unknown</td>\n",
       "      <td>25</td>\n",
       "      <td>768</td>\n",
       "      <td>13</td>\n",
       "      <td>5</td>\n",
       "      <td>203</td>\n",
       "      <td>1</td>\n",
       "      <td>0</td>\n",
       "      <td>0</td>\n",
       "    </tr>\n",
       "    <tr>\n",
       "      <th>36561</th>\n",
       "      <td>0</td>\n",
       "      <td>1</td>\n",
       "      <td>0</td>\n",
       "      <td>1</td>\n",
       "      <td>services</td>\n",
       "      <td>married</td>\n",
       "      <td>primary</td>\n",
       "      <td>cellular</td>\n",
       "      <td>success</td>\n",
       "      <td>37</td>\n",
       "      <td>0</td>\n",
       "      <td>12</td>\n",
       "      <td>5</td>\n",
       "      <td>631</td>\n",
       "      <td>1</td>\n",
       "      <td>1</td>\n",
       "      <td>0</td>\n",
       "    </tr>\n",
       "  </tbody>\n",
       "</table>\n",
       "</div>"
      ],
      "text/plain": [
       "       default  housing  loan  pdays          job  marital  education  \\\n",
       "14789        1        0     1      0  blue-collar   single  secondary   \n",
       "8968         0        0     0      0   management  married   tertiary   \n",
       "34685        0        1     0      0   management   single  secondary   \n",
       "2369         0        1     0      0       admin.   single  secondary   \n",
       "36561        0        1     0      1     services  married    primary   \n",
       "\n",
       "        contact poutcome  age  balance  day  month  duration  campaign  \\\n",
       "14789  cellular  unknown   45        0   16      7       154         2   \n",
       "8968    unknown  unknown   41        5    5      6       178         1   \n",
       "34685  cellular  unknown   40      906    5      5        67         4   \n",
       "2369    unknown  unknown   25      768   13      5       203         1   \n",
       "36561  cellular  success   37        0   12      5       631         1   \n",
       "\n",
       "       previous  y  \n",
       "14789         0  0  \n",
       "8968          0  0  \n",
       "34685         0  0  \n",
       "2369          0  0  \n",
       "36561         1  0  "
      ]
     },
     "execution_count": 4,
     "metadata": {},
     "output_type": "execute_result"
    }
   ],
   "source": [
    "train = data.sample(frac=0.8, random_state=100)\n",
    "train.head()"
   ]
  },
  {
   "cell_type": "code",
   "execution_count": 5,
   "metadata": {},
   "outputs": [
    {
     "data": {
      "text/plain": [
       "(36169, 17)"
      ]
     },
     "execution_count": 5,
     "metadata": {},
     "output_type": "execute_result"
    }
   ],
   "source": [
    "train.shape"
   ]
  },
  {
   "cell_type": "code",
   "execution_count": 6,
   "metadata": {},
   "outputs": [
    {
     "data": {
      "text/html": [
       "<div>\n",
       "<style scoped>\n",
       "    .dataframe tbody tr th:only-of-type {\n",
       "        vertical-align: middle;\n",
       "    }\n",
       "\n",
       "    .dataframe tbody tr th {\n",
       "        vertical-align: top;\n",
       "    }\n",
       "\n",
       "    .dataframe thead th {\n",
       "        text-align: right;\n",
       "    }\n",
       "</style>\n",
       "<table border=\"1\" class=\"dataframe\">\n",
       "  <thead>\n",
       "    <tr style=\"text-align: right;\">\n",
       "      <th></th>\n",
       "      <th>default</th>\n",
       "      <th>housing</th>\n",
       "      <th>loan</th>\n",
       "      <th>pdays</th>\n",
       "      <th>job</th>\n",
       "      <th>marital</th>\n",
       "      <th>education</th>\n",
       "      <th>contact</th>\n",
       "      <th>poutcome</th>\n",
       "      <th>age</th>\n",
       "      <th>balance</th>\n",
       "      <th>day</th>\n",
       "      <th>month</th>\n",
       "      <th>duration</th>\n",
       "      <th>campaign</th>\n",
       "      <th>previous</th>\n",
       "      <th>y</th>\n",
       "    </tr>\n",
       "  </thead>\n",
       "  <tbody>\n",
       "    <tr>\n",
       "      <th>9</th>\n",
       "      <td>0</td>\n",
       "      <td>1</td>\n",
       "      <td>0</td>\n",
       "      <td>0</td>\n",
       "      <td>technician</td>\n",
       "      <td>single</td>\n",
       "      <td>secondary</td>\n",
       "      <td>unknown</td>\n",
       "      <td>unknown</td>\n",
       "      <td>43</td>\n",
       "      <td>593</td>\n",
       "      <td>5</td>\n",
       "      <td>5</td>\n",
       "      <td>55</td>\n",
       "      <td>1</td>\n",
       "      <td>0</td>\n",
       "      <td>0</td>\n",
       "    </tr>\n",
       "    <tr>\n",
       "      <th>27</th>\n",
       "      <td>0</td>\n",
       "      <td>1</td>\n",
       "      <td>1</td>\n",
       "      <td>0</td>\n",
       "      <td>entrepreneur</td>\n",
       "      <td>married</td>\n",
       "      <td>secondary</td>\n",
       "      <td>unknown</td>\n",
       "      <td>unknown</td>\n",
       "      <td>52</td>\n",
       "      <td>113</td>\n",
       "      <td>5</td>\n",
       "      <td>5</td>\n",
       "      <td>127</td>\n",
       "      <td>1</td>\n",
       "      <td>0</td>\n",
       "      <td>0</td>\n",
       "    </tr>\n",
       "    <tr>\n",
       "      <th>28</th>\n",
       "      <td>0</td>\n",
       "      <td>1</td>\n",
       "      <td>0</td>\n",
       "      <td>0</td>\n",
       "      <td>management</td>\n",
       "      <td>single</td>\n",
       "      <td>secondary</td>\n",
       "      <td>unknown</td>\n",
       "      <td>unknown</td>\n",
       "      <td>46</td>\n",
       "      <td>-246</td>\n",
       "      <td>5</td>\n",
       "      <td>5</td>\n",
       "      <td>255</td>\n",
       "      <td>2</td>\n",
       "      <td>0</td>\n",
       "      <td>0</td>\n",
       "    </tr>\n",
       "    <tr>\n",
       "      <th>40</th>\n",
       "      <td>0</td>\n",
       "      <td>1</td>\n",
       "      <td>0</td>\n",
       "      <td>0</td>\n",
       "      <td>services</td>\n",
       "      <td>divorced</td>\n",
       "      <td>secondary</td>\n",
       "      <td>unknown</td>\n",
       "      <td>unknown</td>\n",
       "      <td>44</td>\n",
       "      <td>2586</td>\n",
       "      <td>5</td>\n",
       "      <td>5</td>\n",
       "      <td>160</td>\n",
       "      <td>1</td>\n",
       "      <td>0</td>\n",
       "      <td>0</td>\n",
       "    </tr>\n",
       "    <tr>\n",
       "      <th>44</th>\n",
       "      <td>0</td>\n",
       "      <td>1</td>\n",
       "      <td>0</td>\n",
       "      <td>0</td>\n",
       "      <td>retired</td>\n",
       "      <td>married</td>\n",
       "      <td>unknown</td>\n",
       "      <td>unknown</td>\n",
       "      <td>unknown</td>\n",
       "      <td>58</td>\n",
       "      <td>96</td>\n",
       "      <td>5</td>\n",
       "      <td>5</td>\n",
       "      <td>616</td>\n",
       "      <td>1</td>\n",
       "      <td>0</td>\n",
       "      <td>0</td>\n",
       "    </tr>\n",
       "  </tbody>\n",
       "</table>\n",
       "</div>"
      ],
      "text/plain": [
       "    default  housing  loan  pdays           job   marital  education  contact  \\\n",
       "9         0        1     0      0    technician    single  secondary  unknown   \n",
       "27        0        1     1      0  entrepreneur   married  secondary  unknown   \n",
       "28        0        1     0      0    management    single  secondary  unknown   \n",
       "40        0        1     0      0      services  divorced  secondary  unknown   \n",
       "44        0        1     0      0       retired   married    unknown  unknown   \n",
       "\n",
       "   poutcome  age  balance  day  month  duration  campaign  previous  y  \n",
       "9   unknown   43      593    5      5        55         1         0  0  \n",
       "27  unknown   52      113    5      5       127         1         0  0  \n",
       "28  unknown   46     -246    5      5       255         2         0  0  \n",
       "40  unknown   44     2586    5      5       160         1         0  0  \n",
       "44  unknown   58       96    5      5       616         1         0  0  "
      ]
     },
     "execution_count": 6,
     "metadata": {},
     "output_type": "execute_result"
    }
   ],
   "source": [
    "test = data.drop(train.index)\n",
    "test.head()"
   ]
  },
  {
   "cell_type": "code",
   "execution_count": 7,
   "metadata": {},
   "outputs": [],
   "source": [
    "val = train.sample(frac=0.2, random_state=100)"
   ]
  },
  {
   "cell_type": "code",
   "execution_count": 8,
   "metadata": {},
   "outputs": [
    {
     "data": {
      "text/plain": [
       "(7234, 17)"
      ]
     },
     "execution_count": 8,
     "metadata": {},
     "output_type": "execute_result"
    }
   ],
   "source": [
    "val.shape"
   ]
  },
  {
   "cell_type": "code",
   "execution_count": 9,
   "metadata": {},
   "outputs": [],
   "source": [
    "train = train.drop(val.index)"
   ]
  },
  {
   "cell_type": "code",
   "execution_count": 10,
   "metadata": {},
   "outputs": [
    {
     "name": "stdout",
     "output_type": "stream",
     "text": [
      "(28935, 17)\n",
      "(7234, 17)\n",
      "(9042, 17)\n"
     ]
    }
   ],
   "source": [
    "print(train.shape)\n",
    "print(val.shape)\n",
    "print(test.shape)"
   ]
  },
  {
   "cell_type": "markdown",
   "metadata": {},
   "source": [
    "## Convertir de dataframe (pandas) a dataset (tensorflow)"
   ]
  },
  {
   "cell_type": "code",
   "execution_count": 11,
   "metadata": {},
   "outputs": [],
   "source": [
    "def dataframe_to_dataset(dataframe):\n",
    "    dataframe = dataframe.copy()\n",
    "    labels = dataframe.pop(\"y\")\n",
    "    ds = tf.data.Dataset.from_tensor_slices((dict(dataframe), labels))\n",
    "    ds = ds.shuffle(buffer_size=len(dataframe))\n",
    "    return ds"
   ]
  },
  {
   "cell_type": "code",
   "execution_count": 12,
   "metadata": {},
   "outputs": [],
   "source": [
    "train_ds = dataframe_to_dataset(train)\n",
    "val_ds = dataframe_to_dataset(val)\n",
    "test_ds = dataframe_to_dataset(test)"
   ]
  },
  {
   "cell_type": "code",
   "execution_count": 13,
   "metadata": {},
   "outputs": [
    {
     "data": {
      "text/plain": [
       "tensorflow.python.data.ops.shuffle_op._ShuffleDataset"
      ]
     },
     "execution_count": 13,
     "metadata": {},
     "output_type": "execute_result"
    }
   ],
   "source": [
    "type(train_ds)"
   ]
  },
  {
   "cell_type": "markdown",
   "metadata": {},
   "source": [
    "## Separar los datos de entrenamiento, validación y prueba en lotes"
   ]
  },
  {
   "cell_type": "code",
   "execution_count": 14,
   "metadata": {},
   "outputs": [],
   "source": [
    "batch_size = 32\n",
    "train_ds = train_ds.batch(batch_size)\n",
    "test_ds = test_ds.batch(batch_size)\n",
    "val_ds = val_ds.batch(batch_size)"
   ]
  },
  {
   "cell_type": "markdown",
   "metadata": {},
   "source": [
    "## Función para codificar variables numéricas (Keras docs)"
   ]
  },
  {
   "cell_type": "code",
   "execution_count": 15,
   "metadata": {},
   "outputs": [],
   "source": [
    "def encode_numerical_feature(feature, name, dataset):\n",
    "    # Crea capa de normalización para este feature\n",
    "    normalizer = keras.layers.Normalization()\n",
    "\n",
    "    # Prepara el dataset para considerar únicamente la feature de interés (name)\n",
    "    feature_ds = dataset.map(lambda x, y: x[name]) # selecciona variable\n",
    "    feature_ds = feature_ds.map(lambda x: tf.expand_dims(x, -1)) # deja el tensor de una dimensión\n",
    "\n",
    "    # Aprende las estadísticas de los datos (media, varianza)\n",
    "    normalizer.adapt(feature_ds)\n",
    "\n",
    "    # Aplica la normalización a la variable\n",
    "    encoded_feature = normalizer(feature)\n",
    "    return encoded_feature"
   ]
  },
  {
   "cell_type": "markdown",
   "metadata": {},
   "source": [
    "# Función para codificar variables categóricas (Keras docs)"
   ]
  },
  {
   "cell_type": "code",
   "execution_count": 16,
   "metadata": {},
   "outputs": [],
   "source": [
    "def encode_categorical_feature(feature, name, dataset, is_string):\n",
    "    lookup_class = keras.layers.StringLookup if is_string else keras.layers.IntegerLookup\n",
    "    # Crea una capa Lookup para retornas variables 0/1 (dummies)\n",
    "    # lookup: busca el valor correspondiente de la variable categórica\n",
    "    lookup = lookup_class(output_mode=\"binary\")\n",
    "\n",
    "    # Prepara el dataset para considerar únicamente la feature de interés (name)\n",
    "    feature_ds = dataset.map(lambda x, y: x[name]) # selecciona variable\n",
    "    feature_ds = feature_ds.map(lambda x: tf.expand_dims(x, -1)) # deja el tensor de una dimensión\n",
    "\n",
    "    # Aprende el conjunto de posibles valores que toma la variable categórica y asigna enteros\n",
    "    lookup.adapt(feature_ds)\n",
    "\n",
    "    # Aplica la conversión de categorías a enteros\n",
    "    encoded_feature = lookup(feature)\n",
    "    return encoded_feature"
   ]
  },
  {
   "cell_type": "markdown",
   "metadata": {},
   "source": [
    "# Crear una lista de inputs para el modelo, de acuerdo con cada tipo de variable"
   ]
  },
  {
   "cell_type": "code",
   "execution_count": 17,
   "metadata": {},
   "outputs": [
    {
     "name": "stdout",
     "output_type": "stream",
     "text": [
      "WARNING:tensorflow:From c:\\Users\\tomas\\AppData\\Local\\Programs\\Python\\Python311\\Lib\\site-packages\\keras\\src\\backend.py:1398: The name tf.executing_eagerly_outside_functions is deprecated. Please use tf.compat.v1.executing_eagerly_outside_functions instead.\n",
      "\n"
     ]
    }
   ],
   "source": [
    "inputs = []\n",
    "for i in cat_int_feats:\n",
    "  inputs.append(keras.Input(shape=(1,), name=i, dtype=\"int64\"))"
   ]
  },
  {
   "cell_type": "code",
   "execution_count": 18,
   "metadata": {},
   "outputs": [],
   "source": [
    "for i in cat_str_feats:\n",
    "  inputs.append(keras.Input(shape=(1,), name=i, dtype=\"string\"))"
   ]
  },
  {
   "cell_type": "code",
   "execution_count": 19,
   "metadata": {},
   "outputs": [],
   "source": [
    "for i in num_feats:\n",
    "  inputs.append(keras.Input(shape=(1,), name=i))"
   ]
  },
  {
   "cell_type": "markdown",
   "metadata": {},
   "source": [
    "## Crear una lista de variables codificadas/normalizadas de acuerdo con su tipo, empleando las funciones de codificación/normalización"
   ]
  },
  {
   "cell_type": "code",
   "execution_count": 20,
   "metadata": {},
   "outputs": [],
   "source": [
    "feats_encoded=[]"
   ]
  },
  {
   "cell_type": "code",
   "execution_count": 21,
   "metadata": {},
   "outputs": [
    {
     "name": "stdout",
     "output_type": "stream",
     "text": [
      "WARNING:tensorflow:From c:\\Users\\tomas\\AppData\\Local\\Programs\\Python\\Python311\\Lib\\site-packages\\keras\\src\\utils\\tf_utils.py:492: The name tf.ragged.RaggedTensorValue is deprecated. Please use tf.compat.v1.ragged.RaggedTensorValue instead.\n",
      "\n"
     ]
    }
   ],
   "source": [
    "for i,feat in enumerate(cat_int_feats):\n",
    "  feats_encoded.append(\n",
    "      encode_categorical_feature(inputs[i], feat, train_ds, False)\n",
    "  )"
   ]
  },
  {
   "cell_type": "code",
   "execution_count": 22,
   "metadata": {},
   "outputs": [
    {
     "data": {
      "text/plain": [
       "4"
      ]
     },
     "execution_count": 22,
     "metadata": {},
     "output_type": "execute_result"
    }
   ],
   "source": [
    "len_feats = len(feats_encoded)\n",
    "len_feats"
   ]
  },
  {
   "cell_type": "code",
   "execution_count": 23,
   "metadata": {},
   "outputs": [],
   "source": [
    "for i,feat in enumerate(cat_str_feats):\n",
    "  feats_encoded.append(\n",
    "      encode_categorical_feature(inputs[len_feats+i], feat, train_ds, True)\n",
    "  )"
   ]
  },
  {
   "cell_type": "code",
   "execution_count": 24,
   "metadata": {},
   "outputs": [
    {
     "data": {
      "text/plain": [
       "9"
      ]
     },
     "execution_count": 24,
     "metadata": {},
     "output_type": "execute_result"
    }
   ],
   "source": [
    "len_feats = len(feats_encoded)\n",
    "len_feats"
   ]
  },
  {
   "cell_type": "code",
   "execution_count": 25,
   "metadata": {},
   "outputs": [],
   "source": [
    "for i,feat in enumerate(num_feats):\n",
    "  feats_encoded.append(\n",
    "      encode_numerical_feature(inputs[len_feats+i], feat, train_ds)\n",
    "  )"
   ]
  },
  {
   "cell_type": "code",
   "execution_count": 26,
   "metadata": {},
   "outputs": [
    {
     "name": "stdout",
     "output_type": "stream",
     "text": [
      "KerasTensor(type_spec=TensorSpec(shape=(None, 3), dtype=tf.float32, name=None), name='integer_lookup/bincount/DenseBincount:0', description=\"created by layer 'integer_lookup'\")\n",
      "KerasTensor(type_spec=TensorSpec(shape=(None, 3), dtype=tf.float32, name=None), name='integer_lookup_1/bincount/DenseBincount:0', description=\"created by layer 'integer_lookup_1'\")\n",
      "KerasTensor(type_spec=TensorSpec(shape=(None, 3), dtype=tf.float32, name=None), name='integer_lookup_2/bincount/DenseBincount:0', description=\"created by layer 'integer_lookup_2'\")\n",
      "KerasTensor(type_spec=TensorSpec(shape=(None, 3), dtype=tf.float32, name=None), name='integer_lookup_3/bincount/DenseBincount:0', description=\"created by layer 'integer_lookup_3'\")\n",
      "KerasTensor(type_spec=TensorSpec(shape=(None, 13), dtype=tf.float32, name=None), name='string_lookup/bincount/DenseBincount:0', description=\"created by layer 'string_lookup'\")\n",
      "KerasTensor(type_spec=TensorSpec(shape=(None, 4), dtype=tf.float32, name=None), name='string_lookup_1/bincount/DenseBincount:0', description=\"created by layer 'string_lookup_1'\")\n",
      "KerasTensor(type_spec=TensorSpec(shape=(None, 5), dtype=tf.float32, name=None), name='string_lookup_2/bincount/DenseBincount:0', description=\"created by layer 'string_lookup_2'\")\n",
      "KerasTensor(type_spec=TensorSpec(shape=(None, 4), dtype=tf.float32, name=None), name='string_lookup_3/bincount/DenseBincount:0', description=\"created by layer 'string_lookup_3'\")\n",
      "KerasTensor(type_spec=TensorSpec(shape=(None, 5), dtype=tf.float32, name=None), name='string_lookup_4/bincount/DenseBincount:0', description=\"created by layer 'string_lookup_4'\")\n",
      "KerasTensor(type_spec=TensorSpec(shape=(None, 1), dtype=tf.float32, name=None), name='normalization/truediv:0', description=\"created by layer 'normalization'\")\n",
      "KerasTensor(type_spec=TensorSpec(shape=(None, 1), dtype=tf.float32, name=None), name='normalization_1/truediv:0', description=\"created by layer 'normalization_1'\")\n",
      "KerasTensor(type_spec=TensorSpec(shape=(None, 1), dtype=tf.float32, name=None), name='normalization_2/truediv:0', description=\"created by layer 'normalization_2'\")\n",
      "KerasTensor(type_spec=TensorSpec(shape=(None, 1), dtype=tf.float32, name=None), name='normalization_3/truediv:0', description=\"created by layer 'normalization_3'\")\n",
      "KerasTensor(type_spec=TensorSpec(shape=(None, 1), dtype=tf.float32, name=None), name='normalization_4/truediv:0', description=\"created by layer 'normalization_4'\")\n",
      "KerasTensor(type_spec=TensorSpec(shape=(None, 1), dtype=tf.float32, name=None), name='normalization_5/truediv:0', description=\"created by layer 'normalization_5'\")\n",
      "KerasTensor(type_spec=TensorSpec(shape=(None, 1), dtype=tf.float32, name=None), name='normalization_6/truediv:0', description=\"created by layer 'normalization_6'\")\n"
     ]
    }
   ],
   "source": [
    "for i in feats_encoded:\n",
    "  print(i)"
   ]
  },
  {
   "cell_type": "markdown",
   "metadata": {},
   "source": [
    "## Creamos una capa concatenando todas las variables codificadas"
   ]
  },
  {
   "cell_type": "code",
   "execution_count": 27,
   "metadata": {},
   "outputs": [],
   "source": [
    "all_feats = keras.layers.concatenate(feats_encoded)"
   ]
  },
  {
   "cell_type": "code",
   "execution_count": 28,
   "metadata": {},
   "outputs": [
    {
     "data": {
      "text/plain": [
       "keras.src.engine.keras_tensor.KerasTensor"
      ]
     },
     "execution_count": 28,
     "metadata": {},
     "output_type": "execute_result"
    }
   ],
   "source": [
    "type(all_feats)"
   ]
  },
  {
   "cell_type": "markdown",
   "metadata": {},
   "source": [
    "# MODELO 1"
   ]
  },
  {
   "cell_type": "markdown",
   "metadata": {},
   "source": [
    "## Capa densa con 32 neuronas y función de activación relu"
   ]
  },
  {
   "cell_type": "code",
   "execution_count": 84,
   "metadata": {},
   "outputs": [],
   "source": [
    "model_layers = keras.layers.Dense(32, activation='relu')(all_feats)"
   ]
  },
  {
   "cell_type": "markdown",
   "metadata": {},
   "source": [
    "## Capa de salida con 1 neurona y función de activación sigmoide"
   ]
  },
  {
   "cell_type": "code",
   "execution_count": 85,
   "metadata": {},
   "outputs": [],
   "source": [
    "model_layers = keras.layers.Dense(1, activation='sigmoid')(model_layers)"
   ]
  },
  {
   "cell_type": "markdown",
   "metadata": {},
   "source": [
    "## Crear el modelo con las capas ya creadas y las variables de entrada"
   ]
  },
  {
   "cell_type": "code",
   "execution_count": 86,
   "metadata": {},
   "outputs": [],
   "source": [
    "model = keras.Model(inputs, model_layers)"
   ]
  },
  {
   "cell_type": "markdown",
   "metadata": {},
   "source": [
    "## Compilar el modelo, definiendo optimizador, función de pérdida y métricas adicionales a capturar"
   ]
  },
  {
   "cell_type": "code",
   "execution_count": 87,
   "metadata": {},
   "outputs": [],
   "source": [
    "model.compile(optimizer='adam', loss='binary_crossentropy', metrics=['accuracy'])"
   ]
  },
  {
   "cell_type": "markdown",
   "metadata": {},
   "source": [
    "## Aseguramos que Keras use TensorFlow como backend, para asegurar que el modelo pueda usar strings como entradas"
   ]
  },
  {
   "cell_type": "code",
   "execution_count": 88,
   "metadata": {},
   "outputs": [],
   "source": [
    "import os\n",
    "os.environ[\"KERAS_BACKEND\"] = \"tensorflow\""
   ]
  },
  {
   "cell_type": "markdown",
   "metadata": {},
   "source": [
    "Entrenamos el modelo con los datos en el formato tf.Dataset"
   ]
  },
  {
   "cell_type": "code",
   "execution_count": 89,
   "metadata": {},
   "outputs": [
    {
     "name": "stdout",
     "output_type": "stream",
     "text": [
      "Epoch 1/50\n"
     ]
    },
    {
     "name": "stdout",
     "output_type": "stream",
     "text": [
      "905/905 [==============================] - 4s 3ms/step - loss: 0.2709 - accuracy: 0.8905 - val_loss: 0.2360 - val_accuracy: 0.9013\n",
      "Epoch 2/50\n",
      "905/905 [==============================] - 3s 3ms/step - loss: 0.2363 - accuracy: 0.9005 - val_loss: 0.2311 - val_accuracy: 0.9043\n",
      "Epoch 3/50\n",
      "905/905 [==============================] - 3s 3ms/step - loss: 0.2322 - accuracy: 0.9001 - val_loss: 0.2292 - val_accuracy: 0.9023\n",
      "Epoch 4/50\n",
      "905/905 [==============================] - 3s 3ms/step - loss: 0.2293 - accuracy: 0.9022 - val_loss: 0.2264 - val_accuracy: 0.9036\n",
      "Epoch 5/50\n",
      "905/905 [==============================] - 3s 3ms/step - loss: 0.2275 - accuracy: 0.9018 - val_loss: 0.2255 - val_accuracy: 0.9031\n",
      "Epoch 6/50\n",
      "905/905 [==============================] - 3s 3ms/step - loss: 0.2256 - accuracy: 0.9024 - val_loss: 0.2277 - val_accuracy: 0.9035\n",
      "Epoch 7/50\n",
      "905/905 [==============================] - 3s 3ms/step - loss: 0.2246 - accuracy: 0.9034 - val_loss: 0.2234 - val_accuracy: 0.9034\n",
      "Epoch 8/50\n",
      "905/905 [==============================] - 3s 3ms/step - loss: 0.2231 - accuracy: 0.9025 - val_loss: 0.2250 - val_accuracy: 0.9005\n",
      "Epoch 9/50\n",
      "905/905 [==============================] - 3s 3ms/step - loss: 0.2218 - accuracy: 0.9034 - val_loss: 0.2227 - val_accuracy: 0.9031\n",
      "Epoch 10/50\n",
      "905/905 [==============================] - 3s 3ms/step - loss: 0.2204 - accuracy: 0.9046 - val_loss: 0.2254 - val_accuracy: 0.9019\n",
      "Epoch 11/50\n",
      "905/905 [==============================] - 3s 3ms/step - loss: 0.2199 - accuracy: 0.9045 - val_loss: 0.2229 - val_accuracy: 0.9014\n",
      "Epoch 12/50\n",
      "905/905 [==============================] - 3s 3ms/step - loss: 0.2192 - accuracy: 0.9045 - val_loss: 0.2216 - val_accuracy: 0.9031\n",
      "Epoch 13/50\n",
      "905/905 [==============================] - 3s 3ms/step - loss: 0.2182 - accuracy: 0.9049 - val_loss: 0.2222 - val_accuracy: 0.9028\n",
      "Epoch 14/50\n",
      "905/905 [==============================] - 3s 3ms/step - loss: 0.2174 - accuracy: 0.9055 - val_loss: 0.2237 - val_accuracy: 0.9023\n",
      "Epoch 15/50\n",
      "905/905 [==============================] - 3s 3ms/step - loss: 0.2167 - accuracy: 0.9053 - val_loss: 0.2208 - val_accuracy: 0.9014\n",
      "Epoch 16/50\n",
      "905/905 [==============================] - 3s 3ms/step - loss: 0.2160 - accuracy: 0.9060 - val_loss: 0.2232 - val_accuracy: 0.8995\n",
      "Epoch 17/50\n",
      "905/905 [==============================] - 3s 3ms/step - loss: 0.2151 - accuracy: 0.9065 - val_loss: 0.2227 - val_accuracy: 0.8999\n",
      "Epoch 18/50\n",
      "905/905 [==============================] - 3s 4ms/step - loss: 0.2150 - accuracy: 0.9079 - val_loss: 0.2213 - val_accuracy: 0.9013\n",
      "Epoch 19/50\n",
      "905/905 [==============================] - 3s 3ms/step - loss: 0.2138 - accuracy: 0.9072 - val_loss: 0.2208 - val_accuracy: 0.9014\n",
      "Epoch 20/50\n",
      "905/905 [==============================] - 2s 2ms/step - loss: 0.2133 - accuracy: 0.9075 - val_loss: 0.2212 - val_accuracy: 0.8995\n",
      "Epoch 21/50\n",
      "905/905 [==============================] - 2s 2ms/step - loss: 0.2126 - accuracy: 0.9078 - val_loss: 0.2207 - val_accuracy: 0.9023\n",
      "Epoch 22/50\n",
      "905/905 [==============================] - 2s 2ms/step - loss: 0.2121 - accuracy: 0.9089 - val_loss: 0.2214 - val_accuracy: 0.9007\n",
      "Epoch 23/50\n",
      "905/905 [==============================] - 2s 2ms/step - loss: 0.2114 - accuracy: 0.9076 - val_loss: 0.2209 - val_accuracy: 0.9005\n",
      "Epoch 24/50\n",
      "905/905 [==============================] - 3s 3ms/step - loss: 0.2106 - accuracy: 0.9094 - val_loss: 0.2208 - val_accuracy: 0.9027\n",
      "Epoch 25/50\n",
      "905/905 [==============================] - 3s 3ms/step - loss: 0.2103 - accuracy: 0.9094 - val_loss: 0.2214 - val_accuracy: 0.9019\n",
      "Epoch 26/50\n",
      "905/905 [==============================] - 3s 3ms/step - loss: 0.2104 - accuracy: 0.9090 - val_loss: 0.2199 - val_accuracy: 0.9020\n",
      "Epoch 27/50\n",
      "905/905 [==============================] - 3s 3ms/step - loss: 0.2091 - accuracy: 0.9094 - val_loss: 0.2244 - val_accuracy: 0.9012\n",
      "Epoch 28/50\n",
      "905/905 [==============================] - 2s 2ms/step - loss: 0.2094 - accuracy: 0.9092 - val_loss: 0.2208 - val_accuracy: 0.9012\n",
      "Epoch 29/50\n",
      "905/905 [==============================] - 2s 2ms/step - loss: 0.2084 - accuracy: 0.9099 - val_loss: 0.2236 - val_accuracy: 0.8985\n",
      "Epoch 30/50\n",
      "905/905 [==============================] - 2s 2ms/step - loss: 0.2085 - accuracy: 0.9100 - val_loss: 0.2199 - val_accuracy: 0.9017\n",
      "Epoch 31/50\n",
      "905/905 [==============================] - 2s 2ms/step - loss: 0.2079 - accuracy: 0.9101 - val_loss: 0.2210 - val_accuracy: 0.9001\n",
      "Epoch 32/50\n",
      "905/905 [==============================] - 2s 2ms/step - loss: 0.2076 - accuracy: 0.9097 - val_loss: 0.2220 - val_accuracy: 0.9005\n",
      "Epoch 33/50\n",
      "905/905 [==============================] - 2s 2ms/step - loss: 0.2069 - accuracy: 0.9098 - val_loss: 0.2199 - val_accuracy: 0.9005\n",
      "Epoch 34/50\n",
      "905/905 [==============================] - 3s 3ms/step - loss: 0.2064 - accuracy: 0.9104 - val_loss: 0.2253 - val_accuracy: 0.8996\n",
      "Epoch 35/50\n",
      "905/905 [==============================] - 2s 2ms/step - loss: 0.2062 - accuracy: 0.9112 - val_loss: 0.2204 - val_accuracy: 0.9005\n",
      "Epoch 36/50\n",
      "905/905 [==============================] - 2s 2ms/step - loss: 0.2058 - accuracy: 0.9095 - val_loss: 0.2232 - val_accuracy: 0.8989\n",
      "Epoch 37/50\n",
      "905/905 [==============================] - 2s 2ms/step - loss: 0.2056 - accuracy: 0.9108 - val_loss: 0.2222 - val_accuracy: 0.9031\n",
      "Epoch 38/50\n",
      "905/905 [==============================] - 2s 2ms/step - loss: 0.2053 - accuracy: 0.9121 - val_loss: 0.2234 - val_accuracy: 0.8962\n",
      "Epoch 39/50\n",
      "905/905 [==============================] - 2s 2ms/step - loss: 0.2048 - accuracy: 0.9112 - val_loss: 0.2212 - val_accuracy: 0.9009\n",
      "Epoch 40/50\n",
      "905/905 [==============================] - 3s 4ms/step - loss: 0.2048 - accuracy: 0.9108 - val_loss: 0.2231 - val_accuracy: 0.8980\n",
      "Epoch 41/50\n",
      "905/905 [==============================] - 4s 3ms/step - loss: 0.2043 - accuracy: 0.9123 - val_loss: 0.2214 - val_accuracy: 0.9010\n",
      "Epoch 42/50\n",
      "905/905 [==============================] - 3s 3ms/step - loss: 0.2037 - accuracy: 0.9111 - val_loss: 0.2227 - val_accuracy: 0.8973\n",
      "Epoch 43/50\n",
      "905/905 [==============================] - 3s 3ms/step - loss: 0.2038 - accuracy: 0.9123 - val_loss: 0.2211 - val_accuracy: 0.8987\n",
      "Epoch 44/50\n",
      "905/905 [==============================] - 3s 3ms/step - loss: 0.2037 - accuracy: 0.9115 - val_loss: 0.2205 - val_accuracy: 0.9012\n",
      "Epoch 45/50\n",
      "905/905 [==============================] - 3s 3ms/step - loss: 0.2032 - accuracy: 0.9122 - val_loss: 0.2214 - val_accuracy: 0.9017\n",
      "Epoch 46/50\n",
      "905/905 [==============================] - 3s 3ms/step - loss: 0.2033 - accuracy: 0.9120 - val_loss: 0.2212 - val_accuracy: 0.8999\n",
      "Epoch 47/50\n",
      "905/905 [==============================] - 3s 3ms/step - loss: 0.2025 - accuracy: 0.9132 - val_loss: 0.2236 - val_accuracy: 0.8998\n",
      "Epoch 48/50\n",
      "905/905 [==============================] - 3s 3ms/step - loss: 0.2023 - accuracy: 0.9125 - val_loss: 0.2214 - val_accuracy: 0.9003\n",
      "Epoch 49/50\n",
      "905/905 [==============================] - 3s 3ms/step - loss: 0.2021 - accuracy: 0.9127 - val_loss: 0.2217 - val_accuracy: 0.8991\n",
      "Epoch 50/50\n",
      "905/905 [==============================] - 3s 3ms/step - loss: 0.2013 - accuracy: 0.9128 - val_loss: 0.2286 - val_accuracy: 0.8969\n"
     ]
    },
    {
     "data": {
      "text/plain": [
       "<keras.src.callbacks.History at 0x2539d521fd0>"
      ]
     },
     "execution_count": 89,
     "metadata": {},
     "output_type": "execute_result"
    }
   ],
   "source": [
    "model.fit(train_ds, epochs=50, validation_data=val_ds)"
   ]
  },
  {
   "cell_type": "markdown",
   "metadata": {},
   "source": [
    "## Evaluar el modelo 1"
   ]
  },
  {
   "cell_type": "code",
   "execution_count": 90,
   "metadata": {},
   "outputs": [
    {
     "name": "stdout",
     "output_type": "stream",
     "text": [
      "283/283 [==============================] - 1s 3ms/step - loss: 0.2286 - accuracy: 0.9025\n",
      "Perdida: 0.22862190008163452\n",
      "Precisión: 90.25%\n"
     ]
    }
   ],
   "source": [
    "test_loss, test_accuracy = model.evaluate(test_ds)\n",
    "\n",
    "print(f\"Perdida: {test_loss}\")\n",
    "print(f\"Precisión: {test_accuracy * 100:.2f}%\")\n"
   ]
  },
  {
   "cell_type": "markdown",
   "metadata": {},
   "source": [
    "# MODELO 2"
   ]
  },
  {
   "cell_type": "markdown",
   "metadata": {},
   "source": [
    "## 2 Capas densas con 32 neuronas y función de activación relu"
   ]
  },
  {
   "cell_type": "code",
   "execution_count": 55,
   "metadata": {},
   "outputs": [],
   "source": [
    "model_layers2 = keras.layers.Dense(32, activation='relu')(all_feats)\n",
    "model_layers2 = keras.layers.Dense(32, activation='relu')(all_feats)"
   ]
  },
  {
   "cell_type": "markdown",
   "metadata": {},
   "source": [
    "## Capa de salida con 1 neurona y función de activación sigmoide"
   ]
  },
  {
   "cell_type": "code",
   "execution_count": 50,
   "metadata": {},
   "outputs": [],
   "source": [
    "model_layers2 = keras.layers.Dense(1, activation='sigmoid')(model_layers2)"
   ]
  },
  {
   "cell_type": "markdown",
   "metadata": {},
   "source": [
    "## Crear el modelo con las capas ya creadas y las variables de entrada"
   ]
  },
  {
   "cell_type": "code",
   "execution_count": 51,
   "metadata": {},
   "outputs": [],
   "source": [
    "model2 = keras.Model(inputs, model_layers2)"
   ]
  },
  {
   "cell_type": "markdown",
   "metadata": {},
   "source": [
    "## Compilar el modelo, definiendo optimizador, función de pérdida y métricas adicionales a capturar"
   ]
  },
  {
   "cell_type": "code",
   "execution_count": 52,
   "metadata": {},
   "outputs": [],
   "source": [
    "model2.compile(optimizer='adam', loss='binary_crossentropy', metrics=['accuracy'])"
   ]
  },
  {
   "cell_type": "code",
   "execution_count": 53,
   "metadata": {},
   "outputs": [
    {
     "name": "stdout",
     "output_type": "stream",
     "text": [
      "Epoch 1/50\n"
     ]
    },
    {
     "name": "stdout",
     "output_type": "stream",
     "text": [
      "905/905 [==============================] - 5s 3ms/step - loss: 0.6746 - accuracy: 0.5762 - val_loss: 0.5040 - val_accuracy: 0.8880\n",
      "Epoch 2/50\n",
      "905/905 [==============================] - 3s 3ms/step - loss: 0.4412 - accuracy: 0.8820 - val_loss: 0.3929 - val_accuracy: 0.8880\n",
      "Epoch 3/50\n",
      "905/905 [==============================] - 3s 4ms/step - loss: 0.3827 - accuracy: 0.8820 - val_loss: 0.3615 - val_accuracy: 0.8880\n",
      "Epoch 4/50\n",
      "905/905 [==============================] - 3s 3ms/step - loss: 0.3609 - accuracy: 0.8820 - val_loss: 0.3416 - val_accuracy: 0.8880\n",
      "Epoch 5/50\n",
      "905/905 [==============================] - 3s 3ms/step - loss: 0.3363 - accuracy: 0.8820 - val_loss: 0.3142 - val_accuracy: 0.8880\n",
      "Epoch 6/50\n",
      "905/905 [==============================] - 3s 3ms/step - loss: 0.3047 - accuracy: 0.8820 - val_loss: 0.2875 - val_accuracy: 0.8880\n",
      "Epoch 7/50\n",
      "905/905 [==============================] - 3s 3ms/step - loss: 0.2770 - accuracy: 0.8820 - val_loss: 0.2671 - val_accuracy: 0.8880\n",
      "Epoch 8/50\n",
      "905/905 [==============================] - 3s 4ms/step - loss: 0.2570 - accuracy: 0.8820 - val_loss: 0.2570 - val_accuracy: 0.8880\n",
      "Epoch 9/50\n",
      "905/905 [==============================] - 3s 3ms/step - loss: 0.2439 - accuracy: 0.8820 - val_loss: 0.2466 - val_accuracy: 0.8880\n",
      "Epoch 10/50\n",
      "905/905 [==============================] - 3s 3ms/step - loss: 0.2340 - accuracy: 0.8820 - val_loss: 0.2430 - val_accuracy: 0.8880\n",
      "Epoch 11/50\n",
      "905/905 [==============================] - 3s 3ms/step - loss: 0.2272 - accuracy: 0.8820 - val_loss: 0.2385 - val_accuracy: 0.8880\n",
      "Epoch 12/50\n",
      "905/905 [==============================] - 3s 3ms/step - loss: 0.2227 - accuracy: 0.9045 - val_loss: 0.2364 - val_accuracy: 0.9003\n",
      "Epoch 13/50\n",
      "905/905 [==============================] - 3s 3ms/step - loss: 0.2179 - accuracy: 0.9075 - val_loss: 0.2387 - val_accuracy: 0.8978\n",
      "Epoch 14/50\n",
      "905/905 [==============================] - 3s 3ms/step - loss: 0.2159 - accuracy: 0.9058 - val_loss: 0.2372 - val_accuracy: 0.8960\n",
      "Epoch 15/50\n",
      "905/905 [==============================] - 3s 3ms/step - loss: 0.2134 - accuracy: 0.9064 - val_loss: 0.2370 - val_accuracy: 0.8947\n",
      "Epoch 16/50\n",
      "905/905 [==============================] - 3s 3ms/step - loss: 0.2119 - accuracy: 0.9061 - val_loss: 0.2365 - val_accuracy: 0.8947\n",
      "Epoch 17/50\n",
      "905/905 [==============================] - 3s 3ms/step - loss: 0.2093 - accuracy: 0.9073 - val_loss: 0.2324 - val_accuracy: 0.8969\n",
      "Epoch 18/50\n",
      "905/905 [==============================] - 3s 3ms/step - loss: 0.2081 - accuracy: 0.9081 - val_loss: 0.2351 - val_accuracy: 0.8952\n",
      "Epoch 19/50\n",
      "905/905 [==============================] - 3s 3ms/step - loss: 0.2069 - accuracy: 0.9068 - val_loss: 0.2340 - val_accuracy: 0.8967\n",
      "Epoch 20/50\n",
      "905/905 [==============================] - 3s 3ms/step - loss: 0.2053 - accuracy: 0.9088 - val_loss: 0.2343 - val_accuracy: 0.8972\n",
      "Epoch 21/50\n",
      "905/905 [==============================] - 3s 3ms/step - loss: 0.2056 - accuracy: 0.9071 - val_loss: 0.2326 - val_accuracy: 0.8954\n",
      "Epoch 22/50\n",
      "905/905 [==============================] - 3s 3ms/step - loss: 0.2044 - accuracy: 0.9081 - val_loss: 0.2375 - val_accuracy: 0.8967\n",
      "Epoch 23/50\n",
      "905/905 [==============================] - 3s 3ms/step - loss: 0.2031 - accuracy: 0.9083 - val_loss: 0.2350 - val_accuracy: 0.8960\n",
      "Epoch 24/50\n",
      "905/905 [==============================] - 3s 3ms/step - loss: 0.2030 - accuracy: 0.9091 - val_loss: 0.2407 - val_accuracy: 0.8976\n",
      "Epoch 25/50\n",
      "905/905 [==============================] - 3s 3ms/step - loss: 0.2021 - accuracy: 0.9086 - val_loss: 0.2317 - val_accuracy: 0.8927\n",
      "Epoch 26/50\n",
      "905/905 [==============================] - 3s 3ms/step - loss: 0.2018 - accuracy: 0.9086 - val_loss: 0.2336 - val_accuracy: 0.8904\n",
      "Epoch 27/50\n",
      "905/905 [==============================] - 3s 3ms/step - loss: 0.2007 - accuracy: 0.9089 - val_loss: 0.2426 - val_accuracy: 0.8969\n",
      "Epoch 28/50\n",
      "905/905 [==============================] - 3s 3ms/step - loss: 0.2006 - accuracy: 0.9087 - val_loss: 0.2346 - val_accuracy: 0.8923\n",
      "Epoch 29/50\n",
      "905/905 [==============================] - 3s 3ms/step - loss: 0.2000 - accuracy: 0.9083 - val_loss: 0.2346 - val_accuracy: 0.8894\n",
      "Epoch 30/50\n",
      "905/905 [==============================] - 3s 3ms/step - loss: 0.1989 - accuracy: 0.9096 - val_loss: 0.2371 - val_accuracy: 0.8938\n",
      "Epoch 31/50\n",
      "905/905 [==============================] - 3s 3ms/step - loss: 0.1992 - accuracy: 0.9091 - val_loss: 0.2362 - val_accuracy: 0.8963\n",
      "Epoch 32/50\n",
      "905/905 [==============================] - 3s 3ms/step - loss: 0.1996 - accuracy: 0.9097 - val_loss: 0.2358 - val_accuracy: 0.8944\n",
      "Epoch 33/50\n",
      "905/905 [==============================] - 3s 3ms/step - loss: 0.1985 - accuracy: 0.9091 - val_loss: 0.2367 - val_accuracy: 0.8966\n",
      "Epoch 34/50\n",
      "905/905 [==============================] - 3s 3ms/step - loss: 0.1981 - accuracy: 0.9097 - val_loss: 0.2376 - val_accuracy: 0.8969\n",
      "Epoch 35/50\n",
      "905/905 [==============================] - 3s 3ms/step - loss: 0.1979 - accuracy: 0.9097 - val_loss: 0.2350 - val_accuracy: 0.8884\n",
      "Epoch 36/50\n",
      "905/905 [==============================] - 3s 3ms/step - loss: 0.1968 - accuracy: 0.9104 - val_loss: 0.2377 - val_accuracy: 0.8913\n",
      "Epoch 37/50\n",
      "905/905 [==============================] - 3s 3ms/step - loss: 0.1981 - accuracy: 0.9087 - val_loss: 0.2363 - val_accuracy: 0.8978\n",
      "Epoch 38/50\n",
      "905/905 [==============================] - 3s 3ms/step - loss: 0.1965 - accuracy: 0.9107 - val_loss: 0.2340 - val_accuracy: 0.8969\n",
      "Epoch 39/50\n",
      "905/905 [==============================] - 3s 3ms/step - loss: 0.1969 - accuracy: 0.9098 - val_loss: 0.2356 - val_accuracy: 0.8900\n",
      "Epoch 40/50\n",
      "905/905 [==============================] - 3s 3ms/step - loss: 0.1967 - accuracy: 0.9100 - val_loss: 0.2344 - val_accuracy: 0.8923\n",
      "Epoch 41/50\n",
      "905/905 [==============================] - 3s 3ms/step - loss: 0.1957 - accuracy: 0.9106 - val_loss: 0.2396 - val_accuracy: 0.8976\n",
      "Epoch 42/50\n",
      "905/905 [==============================] - 3s 3ms/step - loss: 0.1960 - accuracy: 0.9107 - val_loss: 0.2349 - val_accuracy: 0.8941\n",
      "Epoch 43/50\n",
      "905/905 [==============================] - 3s 3ms/step - loss: 0.1955 - accuracy: 0.9106 - val_loss: 0.2346 - val_accuracy: 0.8933\n",
      "Epoch 44/50\n",
      "905/905 [==============================] - 3s 3ms/step - loss: 0.1948 - accuracy: 0.9115 - val_loss: 0.2370 - val_accuracy: 0.8940\n",
      "Epoch 45/50\n",
      "905/905 [==============================] - 3s 3ms/step - loss: 0.1951 - accuracy: 0.9119 - val_loss: 0.2450 - val_accuracy: 0.8988\n",
      "Epoch 46/50\n",
      "905/905 [==============================] - 3s 3ms/step - loss: 0.1942 - accuracy: 0.9122 - val_loss: 0.2389 - val_accuracy: 0.8970\n",
      "Epoch 47/50\n",
      "905/905 [==============================] - 3s 3ms/step - loss: 0.1947 - accuracy: 0.9112 - val_loss: 0.2361 - val_accuracy: 0.8976\n",
      "Epoch 48/50\n",
      "905/905 [==============================] - 3s 3ms/step - loss: 0.1949 - accuracy: 0.9112 - val_loss: 0.2363 - val_accuracy: 0.8840\n",
      "Epoch 49/50\n",
      "905/905 [==============================] - 3s 3ms/step - loss: 0.1938 - accuracy: 0.9116 - val_loss: 0.2357 - val_accuracy: 0.8954\n",
      "Epoch 50/50\n",
      "905/905 [==============================] - 3s 4ms/step - loss: 0.1937 - accuracy: 0.9117 - val_loss: 0.2358 - val_accuracy: 0.8898\n"
     ]
    },
    {
     "data": {
      "text/plain": [
       "<keras.src.callbacks.History at 0x2538fd79610>"
      ]
     },
     "execution_count": 53,
     "metadata": {},
     "output_type": "execute_result"
    }
   ],
   "source": [
    "model2.fit(train_ds, epochs=50, validation_data=val_ds)"
   ]
  },
  {
   "cell_type": "markdown",
   "metadata": {},
   "source": [
    "## Evaluar el modelo 2"
   ]
  },
  {
   "cell_type": "code",
   "execution_count": 54,
   "metadata": {},
   "outputs": [
    {
     "name": "stdout",
     "output_type": "stream",
     "text": [
      "283/283 [==============================] - 1s 2ms/step - loss: 0.2413 - accuracy: 0.8933\n",
      "Perdida: 0.2413368970155716\n",
      "Precisión: 89.33%\n"
     ]
    }
   ],
   "source": [
    "test_loss, test_accuracy = model2.evaluate(test_ds)\n",
    "\n",
    "print(f\"Perdida: {test_loss}\")\n",
    "print(f\"Precisión: {test_accuracy * 100:.2f}%\")\n"
   ]
  },
  {
   "cell_type": "markdown",
   "metadata": {},
   "source": [
    "# MODELO 3"
   ]
  },
  {
   "cell_type": "markdown",
   "metadata": {},
   "source": [
    "## Capa densa con 64 neuronas y función de activación tanh"
   ]
  },
  {
   "cell_type": "code",
   "execution_count": 56,
   "metadata": {},
   "outputs": [],
   "source": [
    "model_layers3 = keras.layers.Dense(64, activation='tanh')(all_feats)"
   ]
  },
  {
   "cell_type": "markdown",
   "metadata": {},
   "source": [
    "## Capa de salida con 1 neurona y función de activación softmax"
   ]
  },
  {
   "cell_type": "code",
   "execution_count": 57,
   "metadata": {},
   "outputs": [],
   "source": [
    "model_layers3 = keras.layers.Dense(1, activation='softmax')(model_layers3)"
   ]
  },
  {
   "cell_type": "markdown",
   "metadata": {},
   "source": [
    "## Crear el modelo con las capas ya creadas y las variables de entrada"
   ]
  },
  {
   "cell_type": "code",
   "execution_count": 58,
   "metadata": {},
   "outputs": [],
   "source": [
    "model3 = keras.Model(inputs, model_layers3)"
   ]
  },
  {
   "cell_type": "markdown",
   "metadata": {},
   "source": [
    "## Compilar el modelo, definiendo optimizador, función de pérdida y métricas adicionales a capturar"
   ]
  },
  {
   "cell_type": "code",
   "execution_count": 59,
   "metadata": {},
   "outputs": [],
   "source": [
    "model3.compile(optimizer='adam', loss='binary_crossentropy', metrics=['accuracy'])"
   ]
  },
  {
   "cell_type": "code",
   "execution_count": 60,
   "metadata": {},
   "outputs": [
    {
     "name": "stdout",
     "output_type": "stream",
     "text": [
      "Epoch 1/50\n"
     ]
    },
    {
     "name": "stdout",
     "output_type": "stream",
     "text": [
      "905/905 [==============================] - 5s 3ms/step - loss: 0.2574 - accuracy: 0.1180 - val_loss: 0.2388 - val_accuracy: 0.1120\n",
      "Epoch 2/50\n",
      "905/905 [==============================] - 3s 3ms/step - loss: 0.2386 - accuracy: 0.1180 - val_loss: 0.2328 - val_accuracy: 0.1120\n",
      "Epoch 3/50\n",
      "905/905 [==============================] - 3s 3ms/step - loss: 0.2345 - accuracy: 0.1180 - val_loss: 0.2312 - val_accuracy: 0.1120\n",
      "Epoch 4/50\n",
      "905/905 [==============================] - 3s 3ms/step - loss: 0.2315 - accuracy: 0.1180 - val_loss: 0.2287 - val_accuracy: 0.1120\n",
      "Epoch 5/50\n",
      "905/905 [==============================] - 3s 3ms/step - loss: 0.2301 - accuracy: 0.1180 - val_loss: 0.2259 - val_accuracy: 0.1120\n",
      "Epoch 6/50\n",
      "905/905 [==============================] - 3s 3ms/step - loss: 0.2279 - accuracy: 0.1180 - val_loss: 0.2253 - val_accuracy: 0.1120\n",
      "Epoch 7/50\n",
      "905/905 [==============================] - 3s 3ms/step - loss: 0.2259 - accuracy: 0.1180 - val_loss: 0.2287 - val_accuracy: 0.1120\n",
      "Epoch 8/50\n",
      "905/905 [==============================] - 3s 3ms/step - loss: 0.2243 - accuracy: 0.1180 - val_loss: 0.2225 - val_accuracy: 0.1120\n",
      "Epoch 9/50\n",
      "905/905 [==============================] - 3s 3ms/step - loss: 0.2228 - accuracy: 0.1180 - val_loss: 0.2237 - val_accuracy: 0.1120\n",
      "Epoch 10/50\n",
      "905/905 [==============================] - 3s 3ms/step - loss: 0.2204 - accuracy: 0.1180 - val_loss: 0.2222 - val_accuracy: 0.1120\n",
      "Epoch 11/50\n",
      "905/905 [==============================] - 3s 3ms/step - loss: 0.2188 - accuracy: 0.1180 - val_loss: 0.2195 - val_accuracy: 0.1120\n",
      "Epoch 12/50\n",
      "905/905 [==============================] - 3s 3ms/step - loss: 0.2166 - accuracy: 0.1180 - val_loss: 0.2212 - val_accuracy: 0.1120\n",
      "Epoch 13/50\n",
      "905/905 [==============================] - 3s 3ms/step - loss: 0.2152 - accuracy: 0.1180 - val_loss: 0.2185 - val_accuracy: 0.1120\n",
      "Epoch 14/50\n",
      "905/905 [==============================] - 2s 2ms/step - loss: 0.2133 - accuracy: 0.1180 - val_loss: 0.2180 - val_accuracy: 0.1120\n",
      "Epoch 15/50\n",
      "905/905 [==============================] - 2s 3ms/step - loss: 0.2118 - accuracy: 0.1180 - val_loss: 0.2184 - val_accuracy: 0.1120\n",
      "Epoch 16/50\n",
      "905/905 [==============================] - 2s 2ms/step - loss: 0.2108 - accuracy: 0.1180 - val_loss: 0.2164 - val_accuracy: 0.1120\n",
      "Epoch 17/50\n",
      "905/905 [==============================] - 3s 3ms/step - loss: 0.2093 - accuracy: 0.1180 - val_loss: 0.2162 - val_accuracy: 0.1120\n",
      "Epoch 18/50\n",
      "905/905 [==============================] - 2s 3ms/step - loss: 0.2082 - accuracy: 0.1180 - val_loss: 0.2154 - val_accuracy: 0.1120\n",
      "Epoch 19/50\n",
      "905/905 [==============================] - 2s 3ms/step - loss: 0.2068 - accuracy: 0.1180 - val_loss: 0.2168 - val_accuracy: 0.1120\n",
      "Epoch 20/50\n",
      "905/905 [==============================] - 2s 3ms/step - loss: 0.2057 - accuracy: 0.1180 - val_loss: 0.2146 - val_accuracy: 0.1120\n",
      "Epoch 21/50\n",
      "905/905 [==============================] - 3s 3ms/step - loss: 0.2047 - accuracy: 0.1180 - val_loss: 0.2158 - val_accuracy: 0.1120\n",
      "Epoch 22/50\n",
      "905/905 [==============================] - 2s 3ms/step - loss: 0.2035 - accuracy: 0.1180 - val_loss: 0.2131 - val_accuracy: 0.1120\n",
      "Epoch 23/50\n",
      "905/905 [==============================] - 2s 3ms/step - loss: 0.2030 - accuracy: 0.1180 - val_loss: 0.2141 - val_accuracy: 0.1120\n",
      "Epoch 24/50\n",
      "905/905 [==============================] - 2s 3ms/step - loss: 0.2019 - accuracy: 0.1180 - val_loss: 0.2135 - val_accuracy: 0.1120\n",
      "Epoch 25/50\n",
      "905/905 [==============================] - 3s 3ms/step - loss: 0.2009 - accuracy: 0.1180 - val_loss: 0.2142 - val_accuracy: 0.1120\n",
      "Epoch 26/50\n",
      "905/905 [==============================] - 2s 3ms/step - loss: 0.1996 - accuracy: 0.1180 - val_loss: 0.2157 - val_accuracy: 0.1120\n",
      "Epoch 27/50\n",
      "905/905 [==============================] - 2s 2ms/step - loss: 0.1988 - accuracy: 0.1180 - val_loss: 0.2142 - val_accuracy: 0.1120\n",
      "Epoch 28/50\n",
      "905/905 [==============================] - 2s 3ms/step - loss: 0.1982 - accuracy: 0.1180 - val_loss: 0.2129 - val_accuracy: 0.1120\n",
      "Epoch 29/50\n",
      "905/905 [==============================] - 3s 3ms/step - loss: 0.1972 - accuracy: 0.1180 - val_loss: 0.2145 - val_accuracy: 0.1120\n",
      "Epoch 30/50\n",
      "905/905 [==============================] - 3s 3ms/step - loss: 0.1963 - accuracy: 0.1180 - val_loss: 0.2149 - val_accuracy: 0.1120\n",
      "Epoch 31/50\n",
      "905/905 [==============================] - 2s 2ms/step - loss: 0.1956 - accuracy: 0.1180 - val_loss: 0.2136 - val_accuracy: 0.1120\n",
      "Epoch 32/50\n",
      "905/905 [==============================] - 2s 3ms/step - loss: 0.1945 - accuracy: 0.1180 - val_loss: 0.2135 - val_accuracy: 0.1120\n",
      "Epoch 33/50\n",
      "905/905 [==============================] - 3s 3ms/step - loss: 0.1937 - accuracy: 0.1180 - val_loss: 0.2139 - val_accuracy: 0.1120\n",
      "Epoch 34/50\n",
      "905/905 [==============================] - 2s 3ms/step - loss: 0.1929 - accuracy: 0.1180 - val_loss: 0.2142 - val_accuracy: 0.1120\n",
      "Epoch 35/50\n",
      "905/905 [==============================] - 2s 2ms/step - loss: 0.1922 - accuracy: 0.1180 - val_loss: 0.2146 - val_accuracy: 0.1120\n",
      "Epoch 36/50\n",
      "905/905 [==============================] - 2s 2ms/step - loss: 0.1914 - accuracy: 0.1180 - val_loss: 0.2133 - val_accuracy: 0.1120\n",
      "Epoch 37/50\n",
      "905/905 [==============================] - 3s 3ms/step - loss: 0.1907 - accuracy: 0.1180 - val_loss: 0.2153 - val_accuracy: 0.1120\n",
      "Epoch 38/50\n",
      "905/905 [==============================] - 2s 3ms/step - loss: 0.1900 - accuracy: 0.1180 - val_loss: 0.2166 - val_accuracy: 0.1120\n",
      "Epoch 39/50\n",
      "905/905 [==============================] - 2s 3ms/step - loss: 0.1891 - accuracy: 0.1180 - val_loss: 0.2147 - val_accuracy: 0.1120\n",
      "Epoch 40/50\n",
      "905/905 [==============================] - 3s 3ms/step - loss: 0.1882 - accuracy: 0.1180 - val_loss: 0.2190 - val_accuracy: 0.1120\n",
      "Epoch 41/50\n",
      "905/905 [==============================] - 3s 3ms/step - loss: 0.1876 - accuracy: 0.1180 - val_loss: 0.2153 - val_accuracy: 0.1120\n",
      "Epoch 42/50\n",
      "905/905 [==============================] - 3s 3ms/step - loss: 0.1869 - accuracy: 0.1180 - val_loss: 0.2152 - val_accuracy: 0.1120\n",
      "Epoch 43/50\n",
      "905/905 [==============================] - 3s 4ms/step - loss: 0.1864 - accuracy: 0.1180 - val_loss: 0.2155 - val_accuracy: 0.1120\n",
      "Epoch 44/50\n",
      "905/905 [==============================] - 3s 3ms/step - loss: 0.1857 - accuracy: 0.1180 - val_loss: 0.2166 - val_accuracy: 0.1120\n",
      "Epoch 45/50\n",
      "905/905 [==============================] - 3s 3ms/step - loss: 0.1847 - accuracy: 0.1180 - val_loss: 0.2179 - val_accuracy: 0.1120\n",
      "Epoch 46/50\n",
      "905/905 [==============================] - 3s 3ms/step - loss: 0.1840 - accuracy: 0.1180 - val_loss: 0.2159 - val_accuracy: 0.1120\n",
      "Epoch 47/50\n",
      "905/905 [==============================] - 3s 3ms/step - loss: 0.1839 - accuracy: 0.1180 - val_loss: 0.2203 - val_accuracy: 0.1120\n",
      "Epoch 48/50\n",
      "905/905 [==============================] - 3s 3ms/step - loss: 0.1824 - accuracy: 0.1180 - val_loss: 0.2175 - val_accuracy: 0.1120\n",
      "Epoch 49/50\n",
      "905/905 [==============================] - 3s 3ms/step - loss: 0.1818 - accuracy: 0.1180 - val_loss: 0.2183 - val_accuracy: 0.1120\n",
      "Epoch 50/50\n",
      "905/905 [==============================] - 3s 3ms/step - loss: 0.1814 - accuracy: 0.1180 - val_loss: 0.2175 - val_accuracy: 0.1120\n"
     ]
    },
    {
     "data": {
      "text/plain": [
       "<keras.src.callbacks.History at 0x253947d3c10>"
      ]
     },
     "execution_count": 60,
     "metadata": {},
     "output_type": "execute_result"
    }
   ],
   "source": [
    "model3.fit(train_ds, epochs=50, validation_data=val_ds)"
   ]
  },
  {
   "cell_type": "markdown",
   "metadata": {},
   "source": [
    "## Evaluar el modelo 3"
   ]
  },
  {
   "cell_type": "code",
   "execution_count": 61,
   "metadata": {},
   "outputs": [
    {
     "name": "stdout",
     "output_type": "stream",
     "text": [
      "283/283 [==============================] - 1s 2ms/step - loss: 0.2252 - accuracy: 0.1179\n",
      "Perdida: 0.2251921147108078\n",
      "Precisión: 11.79%\n"
     ]
    }
   ],
   "source": [
    "test_loss, test_accuracy = model3.evaluate(test_ds)\n",
    "\n",
    "print(f\"Perdida: {test_loss}\")\n",
    "print(f\"Precisión: {test_accuracy * 100:.2f}%\")\n"
   ]
  },
  {
   "cell_type": "markdown",
   "metadata": {},
   "source": [
    "# MODELO 4"
   ]
  },
  {
   "cell_type": "markdown",
   "metadata": {},
   "source": [
    "## Capa densa con 64 neuronas y función de activación tanh"
   ]
  },
  {
   "cell_type": "code",
   "execution_count": 62,
   "metadata": {},
   "outputs": [],
   "source": [
    "model_layers4 = keras.layers.Dense(64, activation='tanh')(all_feats)"
   ]
  },
  {
   "cell_type": "markdown",
   "metadata": {},
   "source": [
    "## Capa de salida con 1 neurona y función de activación softmax"
   ]
  },
  {
   "cell_type": "code",
   "execution_count": 63,
   "metadata": {},
   "outputs": [],
   "source": [
    "model_layers4 = keras.layers.Dense(1, activation='sigmoid')(model_layers4)"
   ]
  },
  {
   "cell_type": "markdown",
   "metadata": {},
   "source": [
    "## Crear el modelo con las capas ya creadas y las variables de entrada"
   ]
  },
  {
   "cell_type": "code",
   "execution_count": 64,
   "metadata": {},
   "outputs": [],
   "source": [
    "model4 = keras.Model(inputs, model_layers4)"
   ]
  },
  {
   "cell_type": "markdown",
   "metadata": {},
   "source": [
    "## Compilar el modelo, definiendo optimizador, función de pérdida y métricas adicionales a capturar"
   ]
  },
  {
   "cell_type": "code",
   "execution_count": 65,
   "metadata": {},
   "outputs": [],
   "source": [
    "model4.compile(optimizer='adam', loss='binary_crossentropy', metrics=['accuracy'])"
   ]
  },
  {
   "cell_type": "code",
   "execution_count": 66,
   "metadata": {},
   "outputs": [
    {
     "name": "stdout",
     "output_type": "stream",
     "text": [
      "Epoch 1/50\n"
     ]
    },
    {
     "name": "stdout",
     "output_type": "stream",
     "text": [
      "905/905 [==============================] - 4s 3ms/step - loss: 0.2606 - accuracy: 0.8917 - val_loss: 0.2365 - val_accuracy: 0.9023\n",
      "Epoch 2/50\n",
      "905/905 [==============================] - 3s 3ms/step - loss: 0.2382 - accuracy: 0.8995 - val_loss: 0.2348 - val_accuracy: 0.9002\n",
      "Epoch 3/50\n",
      "905/905 [==============================] - 3s 3ms/step - loss: 0.2341 - accuracy: 0.8997 - val_loss: 0.2307 - val_accuracy: 0.9028\n",
      "Epoch 4/50\n",
      "905/905 [==============================] - 3s 3ms/step - loss: 0.2314 - accuracy: 0.9001 - val_loss: 0.2316 - val_accuracy: 0.9021\n",
      "Epoch 5/50\n",
      "905/905 [==============================] - 3s 3ms/step - loss: 0.2297 - accuracy: 0.9013 - val_loss: 0.2258 - val_accuracy: 0.9028\n",
      "Epoch 6/50\n",
      "905/905 [==============================] - 3s 3ms/step - loss: 0.2280 - accuracy: 0.9018 - val_loss: 0.2252 - val_accuracy: 0.9050\n",
      "Epoch 7/50\n",
      "905/905 [==============================] - 3s 4ms/step - loss: 0.2259 - accuracy: 0.9021 - val_loss: 0.2246 - val_accuracy: 0.9036\n",
      "Epoch 8/50\n",
      "905/905 [==============================] - 3s 3ms/step - loss: 0.2246 - accuracy: 0.9022 - val_loss: 0.2263 - val_accuracy: 0.9023\n",
      "Epoch 9/50\n",
      "905/905 [==============================] - 3s 3ms/step - loss: 0.2231 - accuracy: 0.9027 - val_loss: 0.2231 - val_accuracy: 0.9024\n",
      "Epoch 10/50\n",
      "905/905 [==============================] - 3s 3ms/step - loss: 0.2208 - accuracy: 0.9048 - val_loss: 0.2216 - val_accuracy: 0.9032\n",
      "Epoch 11/50\n",
      "905/905 [==============================] - 3s 3ms/step - loss: 0.2194 - accuracy: 0.9049 - val_loss: 0.2217 - val_accuracy: 0.9028\n",
      "Epoch 12/50\n",
      "905/905 [==============================] - 2s 3ms/step - loss: 0.2178 - accuracy: 0.9052 - val_loss: 0.2228 - val_accuracy: 0.9005\n",
      "Epoch 13/50\n",
      "905/905 [==============================] - 3s 3ms/step - loss: 0.2164 - accuracy: 0.9051 - val_loss: 0.2215 - val_accuracy: 0.9031\n",
      "Epoch 14/50\n",
      "905/905 [==============================] - 3s 3ms/step - loss: 0.2153 - accuracy: 0.9068 - val_loss: 0.2206 - val_accuracy: 0.9021\n",
      "Epoch 15/50\n",
      "905/905 [==============================] - 3s 3ms/step - loss: 0.2131 - accuracy: 0.9087 - val_loss: 0.2185 - val_accuracy: 0.9019\n",
      "Epoch 16/50\n",
      "905/905 [==============================] - 3s 3ms/step - loss: 0.2119 - accuracy: 0.9081 - val_loss: 0.2209 - val_accuracy: 0.9014\n",
      "Epoch 17/50\n",
      "905/905 [==============================] - 3s 3ms/step - loss: 0.2104 - accuracy: 0.9079 - val_loss: 0.2268 - val_accuracy: 0.8978\n",
      "Epoch 18/50\n",
      "905/905 [==============================] - 3s 3ms/step - loss: 0.2097 - accuracy: 0.9087 - val_loss: 0.2188 - val_accuracy: 0.9038\n",
      "Epoch 19/50\n",
      "905/905 [==============================] - 3s 3ms/step - loss: 0.2083 - accuracy: 0.9084 - val_loss: 0.2182 - val_accuracy: 0.9017\n",
      "Epoch 20/50\n",
      "905/905 [==============================] - 3s 3ms/step - loss: 0.2066 - accuracy: 0.9090 - val_loss: 0.2183 - val_accuracy: 0.9034\n",
      "Epoch 21/50\n",
      "905/905 [==============================] - 2s 3ms/step - loss: 0.2048 - accuracy: 0.9093 - val_loss: 0.2205 - val_accuracy: 0.9006\n",
      "Epoch 22/50\n",
      "905/905 [==============================] - 3s 3ms/step - loss: 0.2047 - accuracy: 0.9111 - val_loss: 0.2192 - val_accuracy: 0.9009\n",
      "Epoch 23/50\n",
      "905/905 [==============================] - 3s 3ms/step - loss: 0.2029 - accuracy: 0.9116 - val_loss: 0.2185 - val_accuracy: 0.9001\n",
      "Epoch 24/50\n",
      "905/905 [==============================] - 3s 3ms/step - loss: 0.2021 - accuracy: 0.9108 - val_loss: 0.2185 - val_accuracy: 0.9028\n",
      "Epoch 25/50\n",
      "905/905 [==============================] - 4s 4ms/step - loss: 0.2007 - accuracy: 0.9117 - val_loss: 0.2189 - val_accuracy: 0.9005\n",
      "Epoch 26/50\n",
      "905/905 [==============================] - 3s 3ms/step - loss: 0.1999 - accuracy: 0.9117 - val_loss: 0.2179 - val_accuracy: 0.9010\n",
      "Epoch 27/50\n",
      "905/905 [==============================] - 3s 3ms/step - loss: 0.1990 - accuracy: 0.9126 - val_loss: 0.2191 - val_accuracy: 0.9005\n",
      "Epoch 28/50\n",
      "905/905 [==============================] - 3s 3ms/step - loss: 0.1981 - accuracy: 0.9126 - val_loss: 0.2175 - val_accuracy: 0.9017\n",
      "Epoch 29/50\n",
      "905/905 [==============================] - 3s 3ms/step - loss: 0.1968 - accuracy: 0.9133 - val_loss: 0.2187 - val_accuracy: 0.8996\n",
      "Epoch 30/50\n",
      "905/905 [==============================] - 3s 3ms/step - loss: 0.1962 - accuracy: 0.9141 - val_loss: 0.2191 - val_accuracy: 0.9014\n",
      "Epoch 31/50\n",
      "905/905 [==============================] - 2s 3ms/step - loss: 0.1951 - accuracy: 0.9134 - val_loss: 0.2197 - val_accuracy: 0.9014\n",
      "Epoch 32/50\n",
      "905/905 [==============================] - 2s 2ms/step - loss: 0.1948 - accuracy: 0.9138 - val_loss: 0.2193 - val_accuracy: 0.9019\n",
      "Epoch 33/50\n",
      "905/905 [==============================] - 3s 3ms/step - loss: 0.1938 - accuracy: 0.9142 - val_loss: 0.2186 - val_accuracy: 0.8988\n",
      "Epoch 34/50\n",
      "905/905 [==============================] - 2s 2ms/step - loss: 0.1926 - accuracy: 0.9138 - val_loss: 0.2191 - val_accuracy: 0.9007\n",
      "Epoch 35/50\n",
      "905/905 [==============================] - 2s 2ms/step - loss: 0.1925 - accuracy: 0.9139 - val_loss: 0.2237 - val_accuracy: 0.9005\n",
      "Epoch 36/50\n",
      "905/905 [==============================] - 3s 3ms/step - loss: 0.1911 - accuracy: 0.9162 - val_loss: 0.2223 - val_accuracy: 0.8994\n",
      "Epoch 37/50\n",
      "905/905 [==============================] - 2s 3ms/step - loss: 0.1907 - accuracy: 0.9163 - val_loss: 0.2210 - val_accuracy: 0.9001\n",
      "Epoch 38/50\n",
      "905/905 [==============================] - 2s 2ms/step - loss: 0.1899 - accuracy: 0.9163 - val_loss: 0.2206 - val_accuracy: 0.9021\n",
      "Epoch 39/50\n",
      "905/905 [==============================] - 3s 3ms/step - loss: 0.1893 - accuracy: 0.9160 - val_loss: 0.2210 - val_accuracy: 0.9030\n",
      "Epoch 40/50\n",
      "905/905 [==============================] - 3s 3ms/step - loss: 0.1884 - accuracy: 0.9160 - val_loss: 0.2219 - val_accuracy: 0.8995\n",
      "Epoch 41/50\n",
      "905/905 [==============================] - 3s 3ms/step - loss: 0.1881 - accuracy: 0.9161 - val_loss: 0.2214 - val_accuracy: 0.9024\n",
      "Epoch 42/50\n",
      "905/905 [==============================] - 3s 3ms/step - loss: 0.1872 - accuracy: 0.9163 - val_loss: 0.2231 - val_accuracy: 0.9016\n",
      "Epoch 43/50\n",
      "905/905 [==============================] - 3s 3ms/step - loss: 0.1869 - accuracy: 0.9170 - val_loss: 0.2209 - val_accuracy: 0.8989\n",
      "Epoch 44/50\n",
      "905/905 [==============================] - 2s 3ms/step - loss: 0.1858 - accuracy: 0.9175 - val_loss: 0.2225 - val_accuracy: 0.8998\n",
      "Epoch 45/50\n",
      "905/905 [==============================] - 3s 3ms/step - loss: 0.1854 - accuracy: 0.9178 - val_loss: 0.2221 - val_accuracy: 0.9009\n",
      "Epoch 46/50\n",
      "905/905 [==============================] - 2s 3ms/step - loss: 0.1851 - accuracy: 0.9186 - val_loss: 0.2214 - val_accuracy: 0.9002\n",
      "Epoch 47/50\n",
      "905/905 [==============================] - 3s 3ms/step - loss: 0.1842 - accuracy: 0.9188 - val_loss: 0.2300 - val_accuracy: 0.8973\n",
      "Epoch 48/50\n",
      "905/905 [==============================] - 3s 3ms/step - loss: 0.1835 - accuracy: 0.9192 - val_loss: 0.2224 - val_accuracy: 0.8983\n",
      "Epoch 49/50\n",
      "905/905 [==============================] - 3s 3ms/step - loss: 0.1833 - accuracy: 0.9193 - val_loss: 0.2234 - val_accuracy: 0.9017\n",
      "Epoch 50/50\n",
      "905/905 [==============================] - 2s 3ms/step - loss: 0.1825 - accuracy: 0.9192 - val_loss: 0.2256 - val_accuracy: 0.8992\n"
     ]
    },
    {
     "data": {
      "text/plain": [
       "<keras.src.callbacks.History at 0x25396d814d0>"
      ]
     },
     "execution_count": 66,
     "metadata": {},
     "output_type": "execute_result"
    }
   ],
   "source": [
    "model4.fit(train_ds, epochs=50, validation_data=val_ds)"
   ]
  },
  {
   "cell_type": "markdown",
   "metadata": {},
   "source": [
    "## Evaluar el modelo 4"
   ]
  },
  {
   "cell_type": "code",
   "execution_count": 67,
   "metadata": {},
   "outputs": [
    {
     "name": "stdout",
     "output_type": "stream",
     "text": [
      "283/283 [==============================] - 1s 2ms/step - loss: 0.2260 - accuracy: 0.8995\n",
      "Perdida: 0.2259635031223297\n",
      "Precisión: 89.95%\n"
     ]
    }
   ],
   "source": [
    "test_loss, test_accuracy = model4.evaluate(test_ds)\n",
    "\n",
    "print(f\"Perdida: {test_loss}\")\n",
    "print(f\"Precisión: {test_accuracy * 100:.2f}%\")\n"
   ]
  },
  {
   "cell_type": "markdown",
   "metadata": {},
   "source": [
    "# MODELO 5"
   ]
  },
  {
   "cell_type": "markdown",
   "metadata": {},
   "source": [
    "## Capa densa con 64 neuronas y función de activación tanh"
   ]
  },
  {
   "cell_type": "code",
   "execution_count": 68,
   "metadata": {},
   "outputs": [],
   "source": [
    "model_layers5 = keras.layers.Dense(64, activation='relu')(all_feats)"
   ]
  },
  {
   "cell_type": "markdown",
   "metadata": {},
   "source": [
    "## Capa de salida con 1 neurona y función de activación softmax"
   ]
  },
  {
   "cell_type": "code",
   "execution_count": 69,
   "metadata": {},
   "outputs": [],
   "source": [
    "model_layers5 = keras.layers.Dense(1, activation='sigmoid')(model_layers5)"
   ]
  },
  {
   "cell_type": "markdown",
   "metadata": {},
   "source": [
    "## Crear el modelo con las capas ya creadas y las variables de entrada"
   ]
  },
  {
   "cell_type": "code",
   "execution_count": 70,
   "metadata": {},
   "outputs": [],
   "source": [
    "model5 = keras.Model(inputs, model_layers5)"
   ]
  },
  {
   "cell_type": "markdown",
   "metadata": {},
   "source": [
    "## Compilar el modelo, definiendo optimizador, función de pérdida y métricas adicionales a capturar"
   ]
  },
  {
   "cell_type": "code",
   "execution_count": 71,
   "metadata": {},
   "outputs": [],
   "source": [
    "model5.compile(optimizer='adam', loss='binary_crossentropy', metrics=['accuracy'])"
   ]
  },
  {
   "cell_type": "code",
   "execution_count": 72,
   "metadata": {},
   "outputs": [
    {
     "name": "stdout",
     "output_type": "stream",
     "text": [
      "Epoch 1/50\n"
     ]
    },
    {
     "name": "stdout",
     "output_type": "stream",
     "text": [
      "905/905 [==============================] - 4s 3ms/step - loss: 0.2576 - accuracy: 0.8951 - val_loss: 0.2327 - val_accuracy: 0.9020\n",
      "Epoch 2/50\n",
      "905/905 [==============================] - 3s 3ms/step - loss: 0.2328 - accuracy: 0.8989 - val_loss: 0.2280 - val_accuracy: 0.9020\n",
      "Epoch 3/50\n",
      "905/905 [==============================] - 3s 3ms/step - loss: 0.2292 - accuracy: 0.9007 - val_loss: 0.2265 - val_accuracy: 0.9021\n",
      "Epoch 4/50\n",
      "905/905 [==============================] - 3s 3ms/step - loss: 0.2268 - accuracy: 0.9019 - val_loss: 0.2251 - val_accuracy: 0.9032\n",
      "Epoch 5/50\n",
      "905/905 [==============================] - 3s 3ms/step - loss: 0.2244 - accuracy: 0.9023 - val_loss: 0.2243 - val_accuracy: 0.9035\n",
      "Epoch 6/50\n",
      "905/905 [==============================] - 3s 3ms/step - loss: 0.2229 - accuracy: 0.9037 - val_loss: 0.2227 - val_accuracy: 0.9034\n",
      "Epoch 7/50\n",
      "905/905 [==============================] - 2s 3ms/step - loss: 0.2203 - accuracy: 0.9042 - val_loss: 0.2228 - val_accuracy: 0.9010\n",
      "Epoch 8/50\n",
      "905/905 [==============================] - 3s 3ms/step - loss: 0.2181 - accuracy: 0.9051 - val_loss: 0.2206 - val_accuracy: 0.9012\n",
      "Epoch 9/50\n",
      "905/905 [==============================] - 2s 2ms/step - loss: 0.2164 - accuracy: 0.9059 - val_loss: 0.2215 - val_accuracy: 0.9014\n",
      "Epoch 10/50\n",
      "905/905 [==============================] - 2s 2ms/step - loss: 0.2146 - accuracy: 0.9074 - val_loss: 0.2204 - val_accuracy: 0.9012\n",
      "Epoch 11/50\n",
      "905/905 [==============================] - 2s 2ms/step - loss: 0.2125 - accuracy: 0.9075 - val_loss: 0.2202 - val_accuracy: 0.9010\n",
      "Epoch 12/50\n",
      "905/905 [==============================] - 3s 3ms/step - loss: 0.2107 - accuracy: 0.9077 - val_loss: 0.2190 - val_accuracy: 0.9003\n",
      "Epoch 13/50\n",
      "905/905 [==============================] - 2s 2ms/step - loss: 0.2094 - accuracy: 0.9082 - val_loss: 0.2177 - val_accuracy: 0.9017\n",
      "Epoch 14/50\n",
      "905/905 [==============================] - 2s 2ms/step - loss: 0.2072 - accuracy: 0.9089 - val_loss: 0.2189 - val_accuracy: 0.9005\n",
      "Epoch 15/50\n",
      "905/905 [==============================] - 2s 2ms/step - loss: 0.2064 - accuracy: 0.9096 - val_loss: 0.2182 - val_accuracy: 0.9020\n",
      "Epoch 16/50\n",
      "905/905 [==============================] - 2s 2ms/step - loss: 0.2051 - accuracy: 0.9103 - val_loss: 0.2174 - val_accuracy: 0.9017\n",
      "Epoch 17/50\n",
      "905/905 [==============================] - 3s 3ms/step - loss: 0.2037 - accuracy: 0.9095 - val_loss: 0.2174 - val_accuracy: 0.9021\n",
      "Epoch 18/50\n",
      "905/905 [==============================] - 2s 2ms/step - loss: 0.2022 - accuracy: 0.9123 - val_loss: 0.2183 - val_accuracy: 0.9031\n",
      "Epoch 19/50\n",
      "905/905 [==============================] - 3s 4ms/step - loss: 0.2014 - accuracy: 0.9115 - val_loss: 0.2156 - val_accuracy: 0.9019\n",
      "Epoch 20/50\n",
      "905/905 [==============================] - 5s 5ms/step - loss: 0.2004 - accuracy: 0.9115 - val_loss: 0.2162 - val_accuracy: 0.9014\n",
      "Epoch 21/50\n",
      "905/905 [==============================] - 4s 4ms/step - loss: 0.1993 - accuracy: 0.9121 - val_loss: 0.2159 - val_accuracy: 0.9005\n",
      "Epoch 22/50\n",
      "905/905 [==============================] - 3s 3ms/step - loss: 0.1988 - accuracy: 0.9128 - val_loss: 0.2186 - val_accuracy: 0.8977\n",
      "Epoch 23/50\n",
      "905/905 [==============================] - 3s 3ms/step - loss: 0.1981 - accuracy: 0.9133 - val_loss: 0.2164 - val_accuracy: 0.9038\n",
      "Epoch 24/50\n",
      "905/905 [==============================] - 4s 4ms/step - loss: 0.1970 - accuracy: 0.9131 - val_loss: 0.2173 - val_accuracy: 0.9007\n",
      "Epoch 25/50\n",
      "905/905 [==============================] - 5s 5ms/step - loss: 0.1961 - accuracy: 0.9140 - val_loss: 0.2164 - val_accuracy: 0.9003\n",
      "Epoch 26/50\n",
      "905/905 [==============================] - 3s 3ms/step - loss: 0.1955 - accuracy: 0.9146 - val_loss: 0.2168 - val_accuracy: 0.9007\n",
      "Epoch 27/50\n",
      "905/905 [==============================] - 4s 4ms/step - loss: 0.1948 - accuracy: 0.9138 - val_loss: 0.2198 - val_accuracy: 0.9027\n",
      "Epoch 28/50\n",
      "905/905 [==============================] - 4s 4ms/step - loss: 0.1941 - accuracy: 0.9147 - val_loss: 0.2177 - val_accuracy: 0.9006\n",
      "Epoch 29/50\n",
      "905/905 [==============================] - 3s 3ms/step - loss: 0.1935 - accuracy: 0.9148 - val_loss: 0.2178 - val_accuracy: 0.8998\n",
      "Epoch 30/50\n",
      "905/905 [==============================] - 3s 3ms/step - loss: 0.1929 - accuracy: 0.9159 - val_loss: 0.2179 - val_accuracy: 0.9016\n",
      "Epoch 31/50\n",
      "905/905 [==============================] - 5s 5ms/step - loss: 0.1925 - accuracy: 0.9152 - val_loss: 0.2188 - val_accuracy: 0.9010\n",
      "Epoch 32/50\n",
      "905/905 [==============================] - 3s 4ms/step - loss: 0.1916 - accuracy: 0.9164 - val_loss: 0.2227 - val_accuracy: 0.8985\n",
      "Epoch 33/50\n",
      "905/905 [==============================] - 5s 5ms/step - loss: 0.1921 - accuracy: 0.9156 - val_loss: 0.2181 - val_accuracy: 0.9012\n",
      "Epoch 34/50\n",
      "905/905 [==============================] - 4s 4ms/step - loss: 0.1907 - accuracy: 0.9168 - val_loss: 0.2183 - val_accuracy: 0.8996\n",
      "Epoch 35/50\n",
      "905/905 [==============================] - 4s 4ms/step - loss: 0.1903 - accuracy: 0.9174 - val_loss: 0.2197 - val_accuracy: 0.9003\n",
      "Epoch 36/50\n",
      "905/905 [==============================] - 4s 5ms/step - loss: 0.1894 - accuracy: 0.9168 - val_loss: 0.2186 - val_accuracy: 0.9016\n",
      "Epoch 37/50\n",
      "905/905 [==============================] - 3s 3ms/step - loss: 0.1896 - accuracy: 0.9179 - val_loss: 0.2214 - val_accuracy: 0.9005\n",
      "Epoch 38/50\n",
      "905/905 [==============================] - 4s 4ms/step - loss: 0.1886 - accuracy: 0.9173 - val_loss: 0.2186 - val_accuracy: 0.9019\n",
      "Epoch 39/50\n",
      "905/905 [==============================] - 3s 4ms/step - loss: 0.1881 - accuracy: 0.9189 - val_loss: 0.2203 - val_accuracy: 0.8999\n",
      "Epoch 40/50\n",
      "905/905 [==============================] - 3s 3ms/step - loss: 0.1879 - accuracy: 0.9169 - val_loss: 0.2199 - val_accuracy: 0.9017\n",
      "Epoch 41/50\n",
      "905/905 [==============================] - 4s 4ms/step - loss: 0.1876 - accuracy: 0.9185 - val_loss: 0.2222 - val_accuracy: 0.9007\n",
      "Epoch 42/50\n",
      "905/905 [==============================] - 3s 4ms/step - loss: 0.1870 - accuracy: 0.9191 - val_loss: 0.2197 - val_accuracy: 0.9002\n",
      "Epoch 43/50\n",
      "905/905 [==============================] - 3s 3ms/step - loss: 0.1864 - accuracy: 0.9198 - val_loss: 0.2216 - val_accuracy: 0.9005\n",
      "Epoch 44/50\n",
      "905/905 [==============================] - 4s 4ms/step - loss: 0.1867 - accuracy: 0.9191 - val_loss: 0.2219 - val_accuracy: 0.9014\n",
      "Epoch 45/50\n",
      "905/905 [==============================] - 3s 4ms/step - loss: 0.1855 - accuracy: 0.9187 - val_loss: 0.2202 - val_accuracy: 0.9027\n",
      "Epoch 46/50\n",
      "905/905 [==============================] - 4s 4ms/step - loss: 0.1852 - accuracy: 0.9184 - val_loss: 0.2231 - val_accuracy: 0.8999\n",
      "Epoch 47/50\n",
      "905/905 [==============================] - 3s 4ms/step - loss: 0.1847 - accuracy: 0.9198 - val_loss: 0.2249 - val_accuracy: 0.9014\n",
      "Epoch 48/50\n",
      "905/905 [==============================] - 4s 4ms/step - loss: 0.1841 - accuracy: 0.9204 - val_loss: 0.2231 - val_accuracy: 0.9003\n",
      "Epoch 49/50\n",
      "905/905 [==============================] - 4s 4ms/step - loss: 0.1843 - accuracy: 0.9212 - val_loss: 0.2256 - val_accuracy: 0.9023\n",
      "Epoch 50/50\n",
      "905/905 [==============================] - 4s 4ms/step - loss: 0.1834 - accuracy: 0.9211 - val_loss: 0.2240 - val_accuracy: 0.8956\n"
     ]
    },
    {
     "data": {
      "text/plain": [
       "<keras.src.callbacks.History at 0x25394649fd0>"
      ]
     },
     "execution_count": 72,
     "metadata": {},
     "output_type": "execute_result"
    }
   ],
   "source": [
    "model5.fit(train_ds, epochs=50, validation_data=val_ds)"
   ]
  },
  {
   "cell_type": "markdown",
   "metadata": {},
   "source": [
    "## Evaluar el modelo 5"
   ]
  },
  {
   "cell_type": "code",
   "execution_count": 73,
   "metadata": {},
   "outputs": [
    {
     "name": "stdout",
     "output_type": "stream",
     "text": [
      "283/283 [==============================] - 1s 2ms/step - loss: 0.2293 - accuracy: 0.8977\n",
      "Perdida: 0.2292981892824173\n",
      "Precisión: 89.77%\n"
     ]
    }
   ],
   "source": [
    "test_loss, test_accuracy = model5.evaluate(test_ds)\n",
    "\n",
    "print(f\"Perdida: {test_loss}\")\n",
    "print(f\"Precisión: {test_accuracy * 100:.2f}%\")\n"
   ]
  },
  {
   "cell_type": "markdown",
   "metadata": {},
   "source": [
    "## Se guarda el modelo 1 que fue el que mayor precisión tuvo"
   ]
  },
  {
   "cell_type": "code",
   "execution_count": 92,
   "metadata": {},
   "outputs": [],
   "source": [
    "model.save(\"modelo.keras\")"
   ]
  }
 ],
 "metadata": {
  "kernelspec": {
   "display_name": "Python 3",
   "language": "python",
   "name": "python3"
  },
  "language_info": {
   "codemirror_mode": {
    "name": "ipython",
    "version": 3
   },
   "file_extension": ".py",
   "mimetype": "text/x-python",
   "name": "python",
   "nbconvert_exporter": "python",
   "pygments_lexer": "ipython3",
   "version": "3.11.0"
  }
 },
 "nbformat": 4,
 "nbformat_minor": 2
}
